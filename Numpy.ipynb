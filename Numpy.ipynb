{
 "cells": [
  {
   "cell_type": "markdown",
   "metadata": {},
   "source": [
    "\n",
    "\n",
    "<img src=\"https://upload.wikimedia.org/wikipedia/commons/thumb/1/1a/NumPy_logo.svg/440px-NumPy_logo.svg.png\"/>\n"
   ]
  },
  {
   "cell_type": "markdown",
   "metadata": {},
   "source": [
    "# What is NumPy?\n",
    "\"__Numpy__ is a library for the Python programming language, adding support for large, multi-dimensional arrays and matrices, along with a large collection of high-level mathematical functions to operate on these arrays. The ancestor of NumPy, Numeric, was originally created by Jim Hugunin with contributions from several other developers. In 2005, Travis Oliphant created NumPy by incorporating features of the competing Numarray into Numeric, with extensive modifications. NumPy is open-source software and has many contributors.\n",
    "\n",
    "\n",
    "The Python programming language was not initially designed for numerical computing, but attracted the attention of the scientific and engineering community early on, so that a special interest group called matrix-sig was founded in 1995 with the aim of defining an array computing package. Among its members was Python designer and maintainer Guido van Rossum, who implemented extensions to Python's syntax (in particular the indexing syntax) to make array computing easier.\" \n",
    "\n",
    "_~ Wikipedia_\n",
    "\n",
    "\n",
    "\n",
    "\n",
    "### *NumPy*, which stands for *Numerical Python*, is a library consisting of:\n",
    "- Multidimensional array objects \n",
    "- A collection of routines for processing those arrays. \n",
    "- Mathematical and logical operations.\n",
    "\n",
    "\n"
   ]
  },
  {
   "cell_type": "markdown",
   "metadata": {},
   "source": [
    "## NDArray\n"
   ]
  },
  {
   "cell_type": "markdown",
   "metadata": {},
   "source": [
    "The main object in NumPy is an **N-dimensional array** type called **ndarray**. \n",
    "\n",
    "- ndarray describes the collection of items of the same type. Items in the collection can be accessed using a zero-based index.\n",
    "- Each element in ndarray is an object of data-type object (called dtype).\n",
    "\n",
    "### Quick Example"
   ]
  },
  {
   "cell_type": "code",
   "execution_count": 55,
   "metadata": {
    "ExecuteTime": {
     "end_time": "2019-07-14T14:19:20.914446Z",
     "start_time": "2019-07-14T14:19:20.904791Z"
    }
   },
   "outputs": [
    {
     "name": "stdout",
     "output_type": "stream",
     "text": [
      "[1 2 3]\n"
     ]
    }
   ],
   "source": [
    "import numpy as np \n",
    "a = np.array([1,2,3]) \n",
    "print a"
   ]
  },
  {
   "cell_type": "code",
   "execution_count": 56,
   "metadata": {
    "ExecuteTime": {
     "end_time": "2019-07-14T14:19:20.931630Z",
     "start_time": "2019-07-14T14:19:20.920698Z"
    }
   },
   "outputs": [
    {
     "name": "stdout",
     "output_type": "stream",
     "text": [
      "[[1 2 3]\n",
      " [4 5 6]\n",
      " [7 8 9]]\n"
     ]
    }
   ],
   "source": [
    "# array can have more than one dimension \n",
    "a = np.array([ [1,2,3],\n",
    "               [4,5,6], \n",
    "               [7,8,9] ])\n",
    "print a"
   ]
  },
  {
   "cell_type": "markdown",
   "metadata": {},
   "source": [
    "### Arguments\n",
    "\n",
    "The `np.array(...)` function accepts the following arguments: \n",
    "\n",
    "- `object` - The array of values.\n",
    "- `dtype`  - The values data type (optional).\n",
    "- `copy`   - Should copy objects? (default=true).\n",
    "- `order`  - Notes if the values should be ordered by row (C) or column (F),or any(A) (default=A)\n",
    "- `subok`  - Should result be forced to the defined data type? (default=true)\n",
    "- `ndmin`  - Minimum dimensions of the result array.\n",
    "\n",
    "\n"
   ]
  },
  {
   "cell_type": "markdown",
   "metadata": {},
   "source": [
    "### Args Examples"
   ]
  },
  {
   "cell_type": "code",
   "execution_count": 57,
   "metadata": {
    "ExecuteTime": {
     "end_time": "2019-07-14T14:19:20.945380Z",
     "start_time": "2019-07-14T14:19:20.937806Z"
    }
   },
   "outputs": [
    {
     "name": "stdout",
     "output_type": "stream",
     "text": [
      "[[1 2 3 4 5]]\n"
     ]
    }
   ],
   "source": [
    "a = np.array([1, 2, 3, 4, 5], ndmin = 2) \n",
    "print a"
   ]
  },
  {
   "cell_type": "code",
   "execution_count": 58,
   "metadata": {
    "ExecuteTime": {
     "end_time": "2019-07-14T14:19:20.961176Z",
     "start_time": "2019-07-14T14:19:20.951440Z"
    }
   },
   "outputs": [
    {
     "name": "stdout",
     "output_type": "stream",
     "text": [
      "[1.+0.j 2.+0.j 3.+0.j]\n"
     ]
    }
   ],
   "source": [
    "# dtype parameter \n",
    "import numpy as np \n",
    "a = np.array([1, 2, 3], dtype = complex) \n",
    "print a"
   ]
  },
  {
   "cell_type": "markdown",
   "metadata": {},
   "source": [
    "### Data Types"
   ]
  },
  {
   "cell_type": "markdown",
   "metadata": {
    "ExecuteTime": {
     "end_time": "2019-07-13T23:24:50.504206Z",
     "start_time": "2019-07-13T23:24:50.469086Z"
    }
   },
   "source": [
    "**String**\n",
    "\n",
    "`S` - Followed by a it's length. (e.g. S5).\n",
    "\n",
    "**Boolean:**\n",
    "\n",
    "`bool`  - True or False. stored as a byte\n",
    "\n",
    "**Integers:**\n",
    "\n",
    "- `int - Default integer type  (32 or 64)\n",
    "- `int8` - Byte (-128 to 127)\n",
    "- `int16` - Integer (-32768 to 32767)\n",
    "- `int32` - Integer (-2147483648 to 2147483647)\n",
    "- `int64` - Integer (-9223372036854775808 to 9223372036854775807)\n",
    "\n",
    "**Unsigned Integers**\n",
    "\n",
    "- `uint8` (0 to 255)\n",
    "- `uint16` (0 to 65535) \n",
    "- `uint32` (0 to 4294967295)\n",
    "- `uint64` (0 to 18446744073709551615)\n",
    "\n",
    "**Float**\n",
    "\n",
    "`float16` - Half precision float: sign bit, 5 bits exponent, 10 bits mantissa\n",
    "`float32` - Single precision float: sign bit, 8 bits exponent, 23 bits mantissa\n",
    "`float64` - Double precision float: sign bit, 11 bits exponent, 52 bits mantissa\n",
    "\n",
    "**Complex number:**\n",
    "\n",
    "`complex64` - Complex number, represented by two 32-bit floats (real and imaginary components)\n",
    "`complex128` - Complex number, represented by two 64-bit floats (real and imaginary components)\n",
    "\n",
    "\n",
    "\n",
    "### Using Data Type Objects (dtype)\n",
    "A `data type object` describes the data types of the objects in the **ndarray**. \n",
    "\n",
    "Using data types objects helps us manage and access our objects more 'humanly' manner. When working with two-dimentioanl datasets, we can access 'Columns' directly.\n",
    "\n",
    "**Exmaples:**\n",
    "\n"
   ]
  },
  {
   "cell_type": "code",
   "execution_count": 96,
   "metadata": {
    "ExecuteTime": {
     "end_time": "2019-07-15T07:04:43.063392Z",
     "start_time": "2019-07-15T07:04:43.013930Z"
    }
   },
   "outputs": [
    {
     "name": "stdout",
     "output_type": "stream",
     "text": [
      "int32\n"
     ]
    }
   ],
   "source": [
    "dt = np.dtype(np.int32) \n",
    "print dt"
   ]
  },
  {
   "cell_type": "code",
   "execution_count": 97,
   "metadata": {
    "ExecuteTime": {
     "end_time": "2019-07-15T07:04:43.128144Z",
     "start_time": "2019-07-15T07:04:43.120122Z"
    }
   },
   "outputs": [
    {
     "name": "stdout",
     "output_type": "stream",
     "text": [
      "[(10,) (20,) (30,)]\n"
     ]
    }
   ],
   "source": [
    "# Use np.dtype to define the data type of the object\n",
    "import numpy as np \n",
    "dt = np.dtype([('score',np.int8)]) \n",
    "\n",
    "# now apply it to ndarray object \n",
    "a = np.array([(10,),(20,),(30,)], dtype = dt) \n",
    "print a"
   ]
  },
  {
   "cell_type": "code",
   "execution_count": 61,
   "metadata": {
    "ExecuteTime": {
     "end_time": "2019-07-14T14:19:21.003796Z",
     "start_time": "2019-07-14T14:19:20.997086Z"
    }
   },
   "outputs": [
    {
     "name": "stdout",
     "output_type": "stream",
     "text": [
      "[10 20 30]\n"
     ]
    }
   ],
   "source": [
    "# use the field name to access content of score column \n",
    "print a['score']"
   ]
  },
  {
   "cell_type": "code",
   "execution_count": 62,
   "metadata": {
    "ExecuteTime": {
     "end_time": "2019-07-14T14:19:21.027658Z",
     "start_time": "2019-07-14T14:19:21.016266Z"
    }
   },
   "outputs": [
    {
     "name": "stdout",
     "output_type": "stream",
     "text": [
      "[('Alice', 21, 50.3) ('Bob', 28, 75. ) ('Charlie', 22, 95.1)\n",
      " ('Dave', 23, 79. ) ('Eve', 19, 82.9)]\n"
     ]
    }
   ],
   "source": [
    "# A more useful example\n",
    " \n",
    "student = np.dtype([('name','S20'), ('age', 'int8'), ('grade', 'float16')]) # note the string data type\n",
    "result = np.array([('Alice', 21, 50.3),\n",
    "                   ('Bob', 28, 75.0),\n",
    "                   ('Charlie', 22, 95.1),\n",
    "                   ('Dave', 23, 79.0),\n",
    "                   ('Eve', 19, 82.9),\n",
    "                  ], dtype = student) \n",
    "print result"
   ]
  },
  {
   "cell_type": "code",
   "execution_count": 63,
   "metadata": {
    "ExecuteTime": {
     "end_time": "2019-07-14T14:19:21.039383Z",
     "start_time": "2019-07-14T14:19:21.033148Z"
    }
   },
   "outputs": [
    {
     "name": "stdout",
     "output_type": "stream",
     "text": [
      "[50.3 75.  95.1 79.  82.9]\n"
     ]
    }
   ],
   "source": [
    "# Get the list of grades\n",
    "print result['grade']"
   ]
  },
  {
   "cell_type": "markdown",
   "metadata": {},
   "source": [
    "### Ndarray Attributes\n",
    "\n",
    "**Shape:**\n",
    "\n",
    "NumPy array comes in all shapes and sizes\n",
    "\n"
   ]
  },
  {
   "cell_type": "code",
   "execution_count": 64,
   "metadata": {
    "ExecuteTime": {
     "end_time": "2019-07-14T14:19:21.051773Z",
     "start_time": "2019-07-14T14:19:21.044900Z"
    }
   },
   "outputs": [
    {
     "name": "stdout",
     "output_type": "stream",
     "text": [
      "(2, 3)\n"
     ]
    }
   ],
   "source": [
    "a = np.array([[1,2,3],[4,5,6]]) \n",
    "print a.shape"
   ]
  },
  {
   "cell_type": "markdown",
   "metadata": {},
   "source": [
    "**A few more examples:**\n"
   ]
  },
  {
   "cell_type": "code",
   "execution_count": 65,
   "metadata": {
    "ExecuteTime": {
     "end_time": "2019-07-14T14:19:21.068155Z",
     "start_time": "2019-07-14T14:19:21.060684Z"
    }
   },
   "outputs": [
    {
     "name": "stdout",
     "output_type": "stream",
     "text": [
      "[ 0  1  2  3  4  5  6  7  8  9 10 11 12 13 14 15 16 17 18 19 20 21 22 23]\n"
     ]
    }
   ],
   "source": [
    "# lets use the arange function to use the \n",
    "a = np.arange(24) \n",
    "print a\n"
   ]
  },
  {
   "cell_type": "code",
   "execution_count": 66,
   "metadata": {
    "ExecuteTime": {
     "end_time": "2019-07-14T14:19:21.083217Z",
     "start_time": "2019-07-14T14:19:21.076397Z"
    }
   },
   "outputs": [
    {
     "name": "stdout",
     "output_type": "stream",
     "text": [
      "1\n"
     ]
    }
   ],
   "source": [
    "# The ndim attribute is the number of dimensions of the ndarray. \n",
    "# The arrange functions return a series on natural number as a one-dimensional array\n",
    "print a.ndim  "
   ]
  },
  {
   "cell_type": "code",
   "execution_count": 68,
   "metadata": {
    "ExecuteTime": {
     "end_time": "2019-07-14T14:19:38.930752Z",
     "start_time": "2019-07-14T14:19:38.924643Z"
    }
   },
   "outputs": [
    {
     "name": "stdout",
     "output_type": "stream",
     "text": [
      "[[[ 0  1  2]\n",
      "  [ 3  4  5]\n",
      "  [ 6  7  8]\n",
      "  [ 9 10 11]]\n",
      "\n",
      " [[12 13 14]\n",
      "  [15 16 17]\n",
      "  [18 19 20]\n",
      "  [21 22 23]]]\n"
     ]
    }
   ],
   "source": [
    "# now lets use the reshape function to force-set the array dimensions\n",
    "b = a.reshape(2,4,3) \n",
    "print b "
   ]
  },
  {
   "cell_type": "code",
   "execution_count": 70,
   "metadata": {
    "ExecuteTime": {
     "end_time": "2019-07-14T14:20:27.018848Z",
     "start_time": "2019-07-14T14:20:27.013654Z"
    }
   },
   "outputs": [
    {
     "name": "stdout",
     "output_type": "stream",
     "text": [
      "dnarray 'b' has: 3 dimensions\n"
     ]
    }
   ],
   "source": [
    "print \"ndarray 'b' has: {0} dimensions\".format(b.ndim) "
   ]
  },
  {
   "cell_type": "markdown",
   "metadata": {},
   "source": [
    "### Creating Arrays\n",
    "\n",
    "There are a few built-in functions to create arrays, pre-filled with values. \n",
    "\n",
    "We've seen the `np.arange` function, another common one is the `np.zeros(size)` function which returns an array of the given size, pre-filled with zeros. \n",
    "\n",
    "However, the more common way to create arrays is using the `np.asarray(my_list)` function. \n",
    "\n",
    "**Example:**"
   ]
  },
  {
   "cell_type": "code",
   "execution_count": 76,
   "metadata": {
    "ExecuteTime": {
     "end_time": "2019-07-14T14:28:44.045411Z",
     "start_time": "2019-07-14T14:28:44.039282Z"
    }
   },
   "outputs": [
    {
     "name": "stdout",
     "output_type": "stream",
     "text": [
      "<type 'numpy.ndarray'>\n"
     ]
    }
   ],
   "source": [
    "x = [1,2,3] \n",
    "a = np.asarray(x) \n",
    "print type(a)"
   ]
  },
  {
   "cell_type": "code",
   "execution_count": 77,
   "metadata": {
    "ExecuteTime": {
     "end_time": "2019-07-14T14:30:11.300398Z",
     "start_time": "2019-07-14T14:30:11.287069Z"
    }
   },
   "outputs": [
    {
     "name": "stdout",
     "output_type": "stream",
     "text": [
      "[(1, 2, 3) (4, 5)]\n"
     ]
    }
   ],
   "source": [
    "# we can also use tuples\n",
    "x = [(1,2,3),(4,5)] \n",
    "a = np.asarray(x) \n",
    "print a"
   ]
  },
  {
   "cell_type": "code",
   "execution_count": 88,
   "metadata": {
    "ExecuteTime": {
     "end_time": "2019-07-14T14:35:05.722742Z",
     "start_time": "2019-07-14T14:35:05.715960Z"
    }
   },
   "outputs": [
    {
     "name": "stdout",
     "output_type": "stream",
     "text": [
      "['H' 'e' 'l' 'l' 'o' ' ' 'W' 'o' 'r' 'l' 'd']\n"
     ]
    }
   ],
   "source": [
    "# or we can use the 'frombuffer' function to get get items for a buffer, such as a string\n",
    "s = 'Hello World' \n",
    "a = np.frombuffer(s, dtype = 'S1') \n",
    "print a"
   ]
  },
  {
   "cell_type": "markdown",
   "metadata": {},
   "source": [
    "**The arange function can be used to create more sufisticated arrays using the function's parameters**\n",
    "\n",
    "`start` - The starting value of an interval.\n",
    "\n",
    "`stop`  - The ending value of an interval (exclusive)\n",
    "\n",
    "`step`  - The gap between items. (default=1)\n",
    "\n",
    "`dtype` - Data type of resulting ndarray."
   ]
  },
  {
   "cell_type": "code",
   "execution_count": 90,
   "metadata": {
    "ExecuteTime": {
     "end_time": "2019-07-14T14:40:22.400930Z",
     "start_time": "2019-07-14T14:40:22.394740Z"
    }
   },
   "outputs": [
    {
     "name": "stdout",
     "output_type": "stream",
     "text": [
      "[100 105 110 115 120 125 130 135 140 145 150 155 160 165 170 175 180 185\n",
      " 190 195]\n"
     ]
    }
   ],
   "source": [
    "# All multipliers of 5, between 100 and 200. \n",
    "a = np.arange(100, 200, 5)\n",
    "print a"
   ]
  },
  {
   "cell_type": "code",
   "execution_count": 93,
   "metadata": {
    "ExecuteTime": {
     "end_time": "2019-07-14T14:55:31.414744Z",
     "start_time": "2019-07-14T14:55:31.405126Z"
    }
   },
   "outputs": [
    {
     "name": "stdout",
     "output_type": "stream",
     "text": [
      "[ 0.     0.676  1.352  2.028  2.704  3.38   4.056  4.732  5.408  6.084\n",
      "  6.76   7.436  8.112  8.788  9.464 10.14  10.816 11.492 12.168 12.844\n",
      " 13.52  14.196 14.872 15.548 16.224 16.9   17.576 18.252 18.928 19.604\n",
      " 20.28  20.956 21.632 22.308 22.984 23.66  24.336 25.012 25.688 26.364\n",
      " 27.04  27.716 28.392 29.068 29.744 30.42  31.096 31.772 32.448 33.124\n",
      " 33.8   34.476 35.152 35.828 36.504 37.18  37.856 38.532 39.208 39.884\n",
      " 40.56  41.236 41.912 42.588 43.264 43.94  44.616 45.292 45.968 46.644\n",
      " 47.32  47.996 48.672 49.348 50.024 50.7   51.376 52.052 52.728 53.404\n",
      " 54.08  54.756 55.432 56.108 56.784 57.46  58.136 58.812 59.488 60.164\n",
      " 60.84  61.516 62.192 62.868 63.544 64.22  64.896 65.572 66.248 66.924]\n"
     ]
    }
   ],
   "source": [
    "# A similar function and also very useful is the linespace function to generate N numbers within a range. \n",
    "# So lets say we want to make a protest and we need to position 100 people on the road between TLV and JLM, \n",
    "# we will calculate their marks along the road like this: \n",
    "\n",
    "road_length = 67.6 # 67.6 km, according to google\n",
    "num_of_people = 100\n",
    "x = np.linspace(0,road_length, num_of_people, endpoint = False) \n",
    "print x"
   ]
  },
  {
   "cell_type": "code",
   "execution_count": 98,
   "metadata": {
    "ExecuteTime": {
     "end_time": "2019-07-15T13:50:54.857033Z",
     "start_time": "2019-07-15T13:50:54.817579Z"
    }
   },
   "outputs": [
    {
     "name": "stdout",
     "output_type": "stream",
     "text": [
      "[   2.    4.    8.   16.   32.   64.  128.  256.  512. 1024.]\n"
     ]
    }
   ],
   "source": [
    "# or use the 'logspace' function to generate an exponential series\n",
    "a = np.logspace(1,10, num = 10, base = 2) \n",
    "print a"
   ]
  },
  {
   "cell_type": "code",
   "execution_count": null,
   "metadata": {},
   "outputs": [],
   "source": []
  },
  {
   "cell_type": "markdown",
   "metadata": {},
   "source": [
    "###  Slicing arrays is fun!\n",
    "\n",
    "There are two ways to index an ndarrray\n",
    "\n",
    "__Integer indexing__ - speciding the 'rows and columns', using lists of indexes of the values we wish to slice. \n",
    "\n",
    "__Boolean indexing__ - using a boolean condition to 'filter out' values. \n",
    "\n",
    "\n",
    "Integer indexing Examples: \n"
   ]
  },
  {
   "cell_type": "code",
   "execution_count": 2,
   "metadata": {
    "ExecuteTime": {
     "end_time": "2019-07-17T13:34:22.911147Z",
     "start_time": "2019-07-17T13:34:22.901013Z"
    }
   },
   "outputs": [
    {
     "name": "stdout",
     "output_type": "stream",
     "text": [
      "[3 5 7]\n"
     ]
    }
   ],
   "source": [
    "# using integers to state the rows and columns we wish to slice\n",
    "\n",
    "x = np.array([[1, 2, 3], \n",
    "              [4, 5, 6], \n",
    "              [7, 8, 9]]) \n",
    "\n",
    "row_indexes = [0,1,2] \n",
    "col_indexes = [2,1,0]\n",
    "\n",
    "\"\"\" \n",
    "When combining the rows and columns indexes, we get a tupple for each element we wish to slice \n",
    "in the example above, we get (0,2) , (1,1) , (2,0). meaning, we wish to extract the object at row 0 column 2,\n",
    "the element in row no' 1 and column no' 1 etc.\n",
    "\"\"\" \n",
    "\n",
    "y = x[row_indexes,   \n",
    "      col_indexes] \n",
    "\n",
    "print y\n"
   ]
  },
  {
   "cell_type": "code",
   "execution_count": 10,
   "metadata": {
    "ExecuteTime": {
     "end_time": "2019-07-17T13:45:01.398456Z",
     "start_time": "2019-07-17T13:45:01.390355Z"
    }
   },
   "outputs": [
    {
     "name": "stdout",
     "output_type": "stream",
     "text": [
      "[[ 0  1  2  3  4  5  6  7  8  9]\n",
      " [10 11 12 13 14 15 16 17 18 19]\n",
      " [20 21 22 23 24 25 26 27 28 29]\n",
      " [30 31 32 33 34 35 36 37 38 39]\n",
      " [40 41 42 43 44 45 46 47 48 49]\n",
      " [50 51 52 53 54 55 56 57 58 59]\n",
      " [60 61 62 63 64 65 66 67 68 69]\n",
      " [70 71 72 73 74 75 76 77 78 79]\n",
      " [80 81 82 83 84 85 86 87 88 89]\n",
      " [90 91 92 93 94 95 96 97 98 99]]\n",
      " \n",
      "---------------------------------------\n",
      "And now just the top-right quarter\n",
      "\n",
      "[[ 5  6  7  8  9]\n",
      " [15 16 17 18 19]\n",
      " [25 26 27 28 29]\n",
      " [35 36 37 38 39]\n",
      " [45 46 47 48 49]]\n"
     ]
    }
   ],
   "source": [
    "# you can also use python's regular list indexing (e.g. my_list[0:5])\n",
    "\n",
    "a = np.arange(100)\n",
    "a = a.reshape(10,10)\n",
    "print a\n",
    "print \"\"\" \n",
    "---------------------------------------\n",
    "And now just the top-right quarter\n",
    "\"\"\"\n",
    "print a[0:5, 5:10]\n",
    "\n"
   ]
  },
  {
   "cell_type": "markdown",
   "metadata": {},
   "source": [
    "\n",
    "__boolean indexing__ allows us to extract values based on logic rather then just index and is usually more helpful. \n",
    "\n",
    "Some examples: "
   ]
  },
  {
   "cell_type": "code",
   "execution_count": 21,
   "metadata": {
    "ExecuteTime": {
     "end_time": "2019-07-17T19:56:14.451134Z",
     "start_time": "2019-07-17T19:56:14.438503Z"
    }
   },
   "outputs": [
    {
     "name": "stdout",
     "output_type": "stream",
     "text": [
      "[[ 0  1  2]\n",
      " [ 3  4  5]\n",
      " [ 6  7  8]\n",
      " [ 9 10 11]]\n",
      "\n",
      "\n",
      "is even number?\n",
      "\n",
      "\n",
      "[[ True False  True]\n",
      " [False  True False]\n",
      " [ True False  True]\n",
      " [False  True False]]\n",
      "\n",
      "\n",
      "as binary matrix\n",
      "\n",
      "[[1 0 1]\n",
      " [0 1 0]\n",
      " [1 0 1]\n",
      " [0 1 0]]\n"
     ]
    }
   ],
   "source": [
    "a = np.array([[ 0,  1,  2],\n",
    "              [ 3,  4,  5],\n",
    "              [ 6,  7,  8],\n",
    "              [ 9, 10, 11]]) \n",
    "\n",
    "print a\n",
    "print '\\n'\n",
    "\n",
    "# Now lets slice by items greater than 5 \n",
    "print \"is even number?\"\n",
    "print '\\n'\n",
    "b = a % 2 == 0\n",
    "print b\n",
    "\n",
    "print \"\\n\"\n",
    "\n",
    "# but that's not so usefull for calculations, lets turn it into int\n",
    "print \"as binary matrix\\n\"\n",
    "print b.astype(np.int)"
   ]
  },
  {
   "cell_type": "markdown",
   "metadata": {},
   "source": [
    "###  Array Manipulation\n",
    "\n",
    "Numpy has a variaty of functions to manipulate your data. From reshaping, transposing, merging and many more. \n",
    "\n",
    "Lets see some examples.\n",
    "\n",
    "__broadcasting__\n"
   ]
  },
  {
   "cell_type": "code",
   "execution_count": 22,
   "metadata": {
    "ExecuteTime": {
     "end_time": "2019-07-17T20:11:35.501685Z",
     "start_time": "2019-07-17T20:11:35.488186Z"
    }
   },
   "outputs": [
    {
     "name": "stdout",
     "output_type": "stream",
     "text": [
      "[ 10  40  90 160]\n"
     ]
    }
   ],
   "source": [
    "# Broadcasting is the numpy name for arrays 'arithmetics'. \n",
    "a = np.array([1,2,3,4]) \n",
    "b = np.array([10,20,30,40]) \n",
    "c = a * b \n",
    "print c\n"
   ]
  },
  {
   "cell_type": "code",
   "execution_count": 23,
   "metadata": {
    "ExecuteTime": {
     "end_time": "2019-07-17T20:11:43.794823Z",
     "start_time": "2019-07-17T20:11:43.788513Z"
    }
   },
   "outputs": [
    {
     "name": "stdout",
     "output_type": "stream",
     "text": [
      "[11 22 33 44]\n"
     ]
    }
   ],
   "source": [
    "c = a + b \n",
    "print c"
   ]
  },
  {
   "cell_type": "code",
   "execution_count": 25,
   "metadata": {
    "ExecuteTime": {
     "end_time": "2019-07-17T20:12:15.471313Z",
     "start_time": "2019-07-17T20:12:15.465980Z"
    }
   },
   "outputs": [
    {
     "name": "stdout",
     "output_type": "stream",
     "text": [
      "[ 9 18 27 36]\n"
     ]
    }
   ],
   "source": [
    "c = b - a\n",
    "print c"
   ]
  },
  {
   "cell_type": "code",
   "execution_count": 28,
   "metadata": {
    "ExecuteTime": {
     "end_time": "2019-07-17T20:15:36.907827Z",
     "start_time": "2019-07-17T20:15:36.898680Z"
    }
   },
   "outputs": [
    {
     "name": "stdout",
     "output_type": "stream",
     "text": [
      "[[ 1  2  3]\n",
      " [11 12 13]\n",
      " [21 22 23]\n",
      " [31 32 33]]\n"
     ]
    }
   ],
   "source": [
    "# Arrays doesn't have to be of the same dimension to use broadcasting, \n",
    "# but be careful with how you plan your calculation\n",
    "\n",
    "a = np.array([[0, 0, 0],\n",
    "              [10, 10, 10],\n",
    "              [20, 20, 20],\n",
    "              [30, 30, 30]]) \n",
    "\n",
    "b = np.array([1, 2, 3])  \n",
    "print a + b\n",
    "\n",
    "# 'b' is added to each row in 'a'"
   ]
  },
  {
   "cell_type": "markdown",
   "metadata": {},
   "source": [
    "__numpy.concatenate__ is used to 'merge' two arrays together. you can choose on which axis you wish to join the arrays. \n"
   ]
  },
  {
   "cell_type": "code",
   "execution_count": 31,
   "metadata": {
    "ExecuteTime": {
     "end_time": "2019-07-17T20:20:37.861687Z",
     "start_time": "2019-07-17T20:20:37.850270Z"
    }
   },
   "outputs": [
    {
     "name": "stdout",
     "output_type": "stream",
     "text": [
      "Merging by the '0' axis: (default)\n",
      "[[1 2]\n",
      " [3 4]\n",
      " [5 6]\n",
      " [7 8]]\n",
      "\n",
      "\n",
      "Merging by the 1 axis:\n",
      "[[1 2 5 6]\n",
      " [3 4 7 8]]\n"
     ]
    }
   ],
   "source": [
    "a = np.array([[1,2],\n",
    "              [3,4]]) \n",
    "\n",
    "b = np.array([[5,6],\n",
    "              [7,8]]) \n",
    "\n",
    "# both the arrays are of same dimensions \n",
    "\n",
    "print \"Merging by the '0' axis: (default)\"\n",
    "print np.concatenate((a,b)) \n",
    "print '\\n'  \n",
    "\n",
    "print 'Merging by the 1 axis:' \n",
    "print np.concatenate((a,b),axis = 1)"
   ]
  },
  {
   "cell_type": "markdown",
   "metadata": {},
   "source": [
    "using the __split__ function, we can get the opposite effect. \n",
    "\n",
    "\n"
   ]
  },
  {
   "cell_type": "code",
   "execution_count": 42,
   "metadata": {
    "ExecuteTime": {
     "end_time": "2019-07-17T20:31:30.043025Z",
     "start_time": "2019-07-17T20:31:30.032344Z"
    }
   },
   "outputs": [
    {
     "name": "stdout",
     "output_type": "stream",
     "text": [
      "Split the array in 3 equal-sized subarrays:\n",
      "[0 1 2]\n",
      "[3 4 5]\n",
      "[6 7 8]\n",
      "\n",
      "\n",
      "Split the array at positions indicated in 1-D array:\n",
      "[0 1]\n",
      "[2 3 4 5]\n",
      "[6 7 8]\n"
     ]
    }
   ],
   "source": [
    "a = np.arange(9) \n",
    "# 'spilt' returns a python lists of numpy arrays.\n",
    "\n",
    "print 'Split the array in 3 equal-sized subarrays:' \n",
    "b = np.split(a,3) \n",
    "for row in b:\n",
    "    print row\n",
    "print '\\n'  \n",
    "\n",
    "print 'Split the array at positions indicated in 1-D array:' \n",
    "b = np.split(a,[2,6])\n",
    "for row in b:\n",
    "    print row\n",
    "\n"
   ]
  },
  {
   "cell_type": "markdown",
   "metadata": {},
   "source": [
    "### Adding/Removing elements\n",
    "\n",
    "Adding/removing elements from the array is poosible using a few useful functions:\n",
    "\n",
    "__append__ - Appends the values to the end of an array\n",
    "\n",
    "__insert__ - Inserts the values along the given axis before the given indices\n",
    "\n",
    "__delete__ - Returns a new array with sub-arrays along an axis deleted\n",
    "\n",
    "__unique__ - Finds the unique elements of an array\n",
    "\n",
    "\n",
    "Some examples: "
   ]
  },
  {
   "cell_type": "code",
   "execution_count": 45,
   "metadata": {
    "ExecuteTime": {
     "end_time": "2019-07-17T20:34:52.705296Z",
     "start_time": "2019-07-17T20:34:52.695371Z"
    }
   },
   "outputs": [
    {
     "data": {
      "text/plain": [
       "array([1, 2, 3, 4])"
      ]
     },
     "execution_count": 45,
     "metadata": {},
     "output_type": "execute_result"
    }
   ],
   "source": [
    "a = np.array([1,2,3])\n",
    "np.append(a, 4)"
   ]
  },
  {
   "cell_type": "code",
   "execution_count": 52,
   "metadata": {
    "ExecuteTime": {
     "end_time": "2019-07-17T20:46:35.912233Z",
     "start_time": "2019-07-17T20:46:35.901664Z"
    }
   },
   "outputs": [
    {
     "name": "stdout",
     "output_type": "stream",
     "text": [
      "Insert along axis 0:\n",
      "[[1 2 3]\n",
      " [0 0 0]\n",
      " [4 5 6]\n",
      " [7 8 9]]\n",
      "\n",
      "\n",
      "Insert along axis 1:\n",
      "[[1 0 2 3]\n",
      " [4 0 5 6]\n",
      " [7 0 8 9]]\n"
     ]
    }
   ],
   "source": [
    "# use the 'insert(obj, values, axis)' function to insert elements in a given row/column \n",
    "a = np.array([[1,2, 3],\n",
    "              [4, 5, 6],\n",
    "              [7, 8, 9]]) \n",
    "\n",
    "to_insert = 0\n",
    "\n",
    "print 'Insert along axis 0:' \n",
    "print np.insert(a,1, to_insert , axis = 0) \n",
    "print '\\n'  \n",
    "\n",
    "print 'Insert along axis 1:' \n",
    "print np.insert(a, 1, to_insert, axis = 1)"
   ]
  },
  {
   "cell_type": "code",
   "execution_count": 57,
   "metadata": {
    "ExecuteTime": {
     "end_time": "2019-07-17T20:55:23.677467Z",
     "start_time": "2019-07-17T20:55:23.669396Z"
    }
   },
   "outputs": [
    {
     "name": "stdout",
     "output_type": "stream",
     "text": [
      "Delete column 2:\n",
      "[[ 1  3]\n",
      " [ 4  6]\n",
      " [ 7  9]\n",
      " [10 12]]\n"
     ]
    }
   ],
   "source": [
    "# The delete column removes rows/columns\n",
    "a = np.array([[1,2, 3],\n",
    "              [4, 5, 6],\n",
    "              [7, 8, 9],\n",
    "              [10, 11, 12]])\n",
    "\n",
    "print 'Delete column 2:'  \n",
    "print np.delete(a, 1, axis = 1) "
   ]
  },
  {
   "cell_type": "markdown",
   "metadata": {},
   "source": [
    "## Statistical Functions\n",
    "\n",
    "Numpy supports various statistical functions to explore your data set. \n",
    "\n",
    "__Examples:__\n"
   ]
  },
  {
   "cell_type": "code",
   "execution_count": 65,
   "metadata": {
    "ExecuteTime": {
     "end_time": "2019-07-17T21:07:09.922111Z",
     "start_time": "2019-07-17T21:07:09.910252Z"
    }
   },
   "outputs": [
    {
     "name": "stdout",
     "output_type": "stream",
     "text": [
      "amin() returns an array of the minumum value in each axis:\n",
      "[3 0 1]\n",
      "\n",
      "\n",
      "amax() example\n",
      "9\n",
      "\n",
      "\n",
      "Applying amax() function again:\n",
      "[5 8 9]\n"
     ]
    }
   ],
   "source": [
    "a = np.array([[3,0,5],\n",
    "              [8,4,1],\n",
    "              [5,4,9]]) \n",
    "\n",
    "print 'amin() returns an array of the minumum value in each axis:' \n",
    "print np.amin(a, axis=0) \n",
    "print '\\n'  \n",
    "\n",
    "print 'amax() example'\n",
    "print np.amax(a) \n",
    "print '\\n'  \n",
    "\n",
    "print 'Applying amax() function again:' \n",
    "print np.amax(a, axis = 1)"
   ]
  },
  {
   "cell_type": "code",
   "execution_count": 74,
   "metadata": {
    "ExecuteTime": {
     "end_time": "2019-07-17T21:17:43.506849Z",
     "start_time": "2019-07-17T21:17:43.491865Z"
    }
   },
   "outputs": [
    {
     "name": "stdout",
     "output_type": "stream",
     "text": [
      "using percentile() without specifing an axis flattens the array:\n",
      "13.0\n",
      "\n",
      "\n",
      "Find the 50% element along the axis 1:\n",
      "[ 9. 11. 28.]\n",
      "\n",
      "\n",
      "Find the 50% element along the axis 0:\n",
      "[ 2. 22. 11.]\n"
     ]
    }
   ],
   "source": [
    "\"\"\"Use numpy.percentile(a, q, axis) to find the the value \n",
    "below which a given percentage of observations in a group of observations \"\"\"\n",
    "\n",
    "import numpy as np \n",
    "a = np.array([[1,22, 9],\n",
    "             [2, 15, 11],\n",
    "             [13, 28, 76]]) \n",
    "\n",
    "print 'using percentile() without specifing an axis flattens the array:' \n",
    "print np.percentile(a,50) \n",
    "print '\\n'  \n",
    "\n",
    "print 'Find the 50% element along the axis 1:' \n",
    "print np.percentile(a, 50, axis = 1) \n",
    "print '\\n'  \n",
    "\n",
    "print 'Find the 50% element along the axis 0:' \n",
    "print np.percentile(a, 50, axis = 0)\n",
    "\n"
   ]
  },
  {
   "cell_type": "code",
   "execution_count": 81,
   "metadata": {
    "ExecuteTime": {
     "end_time": "2019-07-17T21:21:04.914445Z",
     "start_time": "2019-07-17T21:21:04.901929Z"
    }
   },
   "outputs": [
    {
     "name": "stdout",
     "output_type": "stream",
     "text": [
      "Mean: 18.184615384615384\n",
      "Median: 9.0\n",
      "Standard Deviation: 16.48709733998756\n",
      "Variance: 271.82437869822485\n"
     ]
    }
   ],
   "source": [
    "# Comming up are your favorite stat functions!\n",
    "a = np.array([1,3,6,3.4,5,9,23,45,6,43,34,15,43])\n",
    "print \"Mean:\", np.mean(a)\n",
    "print \"Median:\", np.median(a)\n",
    "print \"Standard Deviation:\", np.std(a)\n",
    "print \"Variance:\", np.var(a)\n"
   ]
  },
  {
   "cell_type": "markdown",
   "metadata": {},
   "source": [
    "## Exercise Time!\n",
    "\n",
    "Numpy has __a lot__ more functions in each of the above caetgories, but that's enough for now.\n",
    "\n",
    "Lets start playing around."
   ]
  },
  {
   "cell_type": "code",
   "execution_count": null,
   "metadata": {},
   "outputs": [],
   "source": []
  }
 ],
 "metadata": {
  "kernelspec": {
   "display_name": "Python 2",
   "language": "python",
   "name": "python2"
  },
  "language_info": {
   "codemirror_mode": {
    "name": "ipython",
    "version": 2
   },
   "file_extension": ".py",
   "mimetype": "text/x-python",
   "name": "python",
   "nbconvert_exporter": "python",
   "pygments_lexer": "ipython2",
   "version": "2.7.15"
  },
  "toc": {
   "base_numbering": 1,
   "nav_menu": {},
   "number_sections": true,
   "sideBar": true,
   "skip_h1_title": false,
   "title_cell": "Table of Contents",
   "title_sidebar": "Contents",
   "toc_cell": false,
   "toc_position": {},
   "toc_section_display": true,
   "toc_window_display": false
  },
  "varInspector": {
   "cols": {
    "lenName": 16,
    "lenType": 16,
    "lenVar": 40
   },
   "kernels_config": {
    "python": {
     "delete_cmd_postfix": "",
     "delete_cmd_prefix": "del ",
     "library": "var_list.py",
     "varRefreshCmd": "print(var_dic_list())"
    },
    "r": {
     "delete_cmd_postfix": ") ",
     "delete_cmd_prefix": "rm(",
     "library": "var_list.r",
     "varRefreshCmd": "cat(var_dic_list()) "
    }
   },
   "types_to_exclude": [
    "module",
    "function",
    "builtin_function_or_method",
    "instance",
    "_Feature"
   ],
   "window_display": false
  }
 },
 "nbformat": 4,
 "nbformat_minor": 2
}
