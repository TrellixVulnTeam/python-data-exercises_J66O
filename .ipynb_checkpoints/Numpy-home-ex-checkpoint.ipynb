{
 "cells": [
  {
   "cell_type": "markdown",
   "metadata": {},
   "source": [
    "# Ready, Set, Numpy!\n",
    "\n",
    "### Generate six random integers between 10 and 30. \n"
   ]
  },
  {
   "cell_type": "code",
   "execution_count": 1,
   "metadata": {
    "ExecuteTime": {
     "end_time": "2019-07-18T09:57:50.626669Z",
     "start_time": "2019-07-18T09:57:50.612615Z"
    }
   },
   "outputs": [
    {
     "name": "stdout",
     "output_type": "stream",
     "text": [
      "[22 19 14 15 29 26]\n"
     ]
    }
   ],
   "source": [
    "import numpy as np\n",
    "x = np.random.randint(low=10, high=30, size=6)\n",
    "print(x)"
   ]
  },
  {
   "cell_type": "markdown",
   "metadata": {},
   "source": [
    "### Create a 5x5 array with random values and find the minimum and maximum values. \n",
    "\n"
   ]
  },
  {
   "cell_type": "code",
   "execution_count": 6,
   "metadata": {
    "ExecuteTime": {
     "end_time": "2019-07-18T10:00:44.919880Z",
     "start_time": "2019-07-18T10:00:44.911399Z"
    }
   },
   "outputs": [
    {
     "name": "stdout",
     "output_type": "stream",
     "text": [
      "\n",
      " Rnadom Array: \n",
      "  [[0.6008805  0.67177642 0.86637007 0.61146205 0.36595393]\n",
      " [0.36939456 0.18687407 0.68418552 0.89547201 0.62487128]\n",
      " [0.88047403 0.47675521 0.17936388 0.35976603 0.31767848]\n",
      " [0.74011052 0.03530595 0.90657674 0.53947307 0.40715968]\n",
      " [0.94344932 0.81131275 0.48869846 0.24334982 0.81659812]]\n",
      "\n",
      "Min: 0.0353059511595, Max: 0.94344931673\n"
     ]
    }
   ],
   "source": [
    "x = np.random.random((5,5))\n",
    "print \"\\n Rnadom Array: \\n \", x\n",
    "xmin = x.min()\n",
    "xmax = x.max()\n",
    "print \"\\nMin: {0}, Max: {1}\".format(xmin, xmax)"
   ]
  },
  {
   "cell_type": "markdown",
   "metadata": {},
   "source": [
    "### Generate a random array of 10 elements between 1 and 100 and sort it in reverse"
   ]
  },
  {
   "cell_type": "code",
   "execution_count": 17,
   "metadata": {
    "ExecuteTime": {
     "end_time": "2019-07-18T10:08:15.471874Z",
     "start_time": "2019-07-18T10:08:15.464976Z"
    }
   },
   "outputs": [
    {
     "name": "stdout",
     "output_type": "stream",
     "text": [
      "[95 86 74 51 25  1]\n",
      "[95 86 74 51 25  1]\n"
     ]
    }
   ],
   "source": [
    "a = np.random.randint(low=0, high=100, size=6)\n",
    "a.sort()\n",
    "print a[::-1]\n",
    "# this also works\n",
    "print -np.sort(-a)"
   ]
  },
  {
   "cell_type": "markdown",
   "metadata": {},
   "source": [
    "# "
   ]
  },
  {
   "cell_type": "code",
   "execution_count": null,
   "metadata": {},
   "outputs": [],
   "source": []
  }
 ],
 "metadata": {
  "kernelspec": {
   "display_name": "Python 2",
   "language": "python",
   "name": "python2"
  },
  "language_info": {
   "codemirror_mode": {
    "name": "ipython",
    "version": 2
   },
   "file_extension": ".py",
   "mimetype": "text/x-python",
   "name": "python",
   "nbconvert_exporter": "python",
   "pygments_lexer": "ipython2",
   "version": "2.7.15"
  },
  "toc": {
   "base_numbering": 1,
   "nav_menu": {},
   "number_sections": true,
   "sideBar": true,
   "skip_h1_title": false,
   "title_cell": "Table of Contents",
   "title_sidebar": "Contents",
   "toc_cell": false,
   "toc_position": {},
   "toc_section_display": true,
   "toc_window_display": false
  },
  "varInspector": {
   "cols": {
    "lenName": 16,
    "lenType": 16,
    "lenVar": 40
   },
   "kernels_config": {
    "python": {
     "delete_cmd_postfix": "",
     "delete_cmd_prefix": "del ",
     "library": "var_list.py",
     "varRefreshCmd": "print(var_dic_list())"
    },
    "r": {
     "delete_cmd_postfix": ") ",
     "delete_cmd_prefix": "rm(",
     "library": "var_list.r",
     "varRefreshCmd": "cat(var_dic_list()) "
    }
   },
   "types_to_exclude": [
    "module",
    "function",
    "builtin_function_or_method",
    "instance",
    "_Feature"
   ],
   "window_display": false
  }
 },
 "nbformat": 4,
 "nbformat_minor": 2
}
