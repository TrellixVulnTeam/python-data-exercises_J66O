{
 "cells": [
  {
   "cell_type": "markdown",
   "metadata": {},
   "source": [
    "\n",
    "\n",
    "<img src=\"https://pandas.pydata.org/_static/pandas_logo.png\"/>\n"
   ]
  },
  {
   "cell_type": "markdown",
   "metadata": {
    "ExecuteTime": {
     "end_time": "2019-07-18T11:25:53.774708Z",
     "start_time": "2019-07-18T11:25:53.765200Z"
    }
   },
   "source": [
    "_pandas_ is an open source, BSD-licensed library providing high-performance, easy-to-use data structures and data analysis tools for the Python programming language.\n",
    "\n",
    "Python with Pandas is used in a wide range of fields including academic and commercial domains including finance, economics, Statistics, analytics, etc. In this tutorial, we will learn the various features of Python Pandas and how to use them in practice."
   ]
  },
  {
   "cell_type": "markdown",
   "metadata": {},
   "source": [
    "## Pandas Key Features\n",
    "\n",
    "- Fast and efficient __DataFrame__ object with default and customized indexing.\n",
    "- Tools for loading data into __in-memory__ data objects from different file formats.\n",
    "- Data alignment and integrated handling of missing data.\n",
    "- __Reshaping__ and pivoting of date sets.\n",
    "- Label-based slicing, __indexing__ and subsetting of large data sets.\n",
    "- __Columns__ from a data structure can be deleted or inserted.\n",
    "- Group by data for __aggregation__ and transformations.\n",
    "- High performance __merging and joining__ of data.\n",
    "- __Time Series__ functionality.\n"
   ]
  },
  {
   "cell_type": "markdown",
   "metadata": {},
   "source": [
    "### Pandas Data Structures\n",
    "\n",
    "The main data structure in use by Pandas are:\n",
    "\n",
    "\t\t\n",
    "\n",
    "| Data Structure | Dimensions   | Description                                |\n",
    "|----------------|--------------|--------------------------------------------|\n",
    "|  Series        |       1      |              1D labeled homogeneous array  |\n",
    "|   Data Frame   |       2      |   General 2D labeled tabular structure     |\n",
    "| Panel  | 3|   General 3D labeled, size-mutable array.  |\n",
    "\n",
    "The more common data structure in analytical use is the __DataFrame__\n",
    "\n",
    "A __series__ is basically a list of objects of the same data type. \n",
    "\n",
    "A __DataFrame__ is group of series that are not necessarily of the same data type. \n",
    "\n"
   ]
  },
  {
   "cell_type": "markdown",
   "metadata": {},
   "source": [
    "### pandas.Series\n",
    "\n",
    "A series is an _indexed_ list of values of the same type, and of fix length. \n",
    "\n",
    "Let's see some ways to create a series in pandas.\n"
   ]
  },
  {
   "cell_type": "code",
   "execution_count": 2,
   "metadata": {
    "ExecuteTime": {
     "end_time": "2019-07-18T11:49:45.210631Z",
     "start_time": "2019-07-18T11:49:44.572242Z"
    }
   },
   "outputs": [
    {
     "name": "stdout",
     "output_type": "stream",
     "text": [
      "Series([], dtype: float64)\n"
     ]
    }
   ],
   "source": [
    "# creating an empty series\n",
    "\n",
    "#import the pandas library and aliasing as pd\n",
    "import numpy as np\n",
    "import pandas as pd\n",
    "\n",
    "s = pd.Series()\n",
    "print s"
   ]
  },
  {
   "cell_type": "code",
   "execution_count": 3,
   "metadata": {
    "ExecuteTime": {
     "end_time": "2019-07-18T11:50:00.776418Z",
     "start_time": "2019-07-18T11:50:00.760881Z"
    }
   },
   "outputs": [
    {
     "name": "stdout",
     "output_type": "stream",
     "text": [
      "100    a\n",
      "101    b\n",
      "102    c\n",
      "103    d\n",
      "dtype: object\n"
     ]
    }
   ],
   "source": [
    "# creating a series from a Numpy array. remember that series has an index!\n",
    "data = np.array(['a','b','c','d'])\n",
    "s = pd.Series(data,index=[100,101,102,103])\n",
    "print s"
   ]
  },
  {
   "cell_type": "code",
   "execution_count": 4,
   "metadata": {
    "ExecuteTime": {
     "end_time": "2019-07-18T11:51:06.151494Z",
     "start_time": "2019-07-18T11:51:06.134639Z"
    }
   },
   "outputs": [
    {
     "name": "stdout",
     "output_type": "stream",
     "text": [
      "a    0.0\n",
      "b    1.0\n",
      "c    2.0\n",
      "dtype: float64\n"
     ]
    }
   ],
   "source": [
    "# creating a series from a python Dictionary, while using the keys as index\n",
    "data = {'a' : 0., 'b' : 1., 'c' : 2.}\n",
    "s = pd.Series(data)\n",
    "print s"
   ]
  },
  {
   "cell_type": "code",
   "execution_count": 7,
   "metadata": {
    "ExecuteTime": {
     "end_time": "2019-07-18T11:52:25.771715Z",
     "start_time": "2019-07-18T11:52:25.762856Z"
    }
   },
   "outputs": [
    {
     "name": "stdout",
     "output_type": "stream",
     "text": [
      "0    5\n",
      "1    5\n",
      "2    5\n",
      "3    5\n",
      "4    5\n",
      "5    5\n",
      "6    5\n",
      "7    5\n",
      "8    5\n",
      "9    5\n",
      "dtype: int64\n"
     ]
    }
   ],
   "source": [
    "# create a repetitive series from a scalar\n",
    "s = pd.Series(5, index=range(0,10))\n",
    "print s"
   ]
  },
  {
   "cell_type": "markdown",
   "metadata": {},
   "source": [
    "#### Accessing Series Data"
   ]
  },
  {
   "cell_type": "code",
   "execution_count": 11,
   "metadata": {
    "ExecuteTime": {
     "end_time": "2019-07-18T12:01:35.621115Z",
     "start_time": "2019-07-18T12:01:35.612162Z"
    }
   },
   "outputs": [
    {
     "name": "stdout",
     "output_type": "stream",
     "text": [
      "1 \n",
      "\n",
      "a    1\n",
      "b    2\n",
      "c    3\n",
      "dtype: int64\n"
     ]
    }
   ],
   "source": [
    "s = pd.Series([1,2,3,4,5],index = ['a','b','c','d','e'])\n",
    "\n",
    "# using the Pythonic list slice notion\n",
    "print s[0], '\\n'\n",
    "print s[:3]"
   ]
  },
  {
   "cell_type": "code",
   "execution_count": 15,
   "metadata": {
    "ExecuteTime": {
     "end_time": "2019-07-18T12:03:45.077184Z",
     "start_time": "2019-07-18T12:03:45.068637Z"
    }
   },
   "outputs": [
    {
     "name": "stdout",
     "output_type": "stream",
     "text": [
      "2 \n",
      "\n",
      "a    1\n",
      "b    2\n",
      "d    4\n",
      "dtype: int64\n"
     ]
    }
   ],
   "source": [
    "# get elements using their index: \n",
    "print s['b'], '\\n'\n",
    "print s[['a', 'b', 'd']]"
   ]
  },
  {
   "cell_type": "markdown",
   "metadata": {},
   "source": [
    "### The DataFrame\n",
    "\n",
    "Pandas data frames is a Tabular-like  data structures, combining indexed rows and named columns. \n",
    "\n",
    "A DataFrame can be created from Lists, Dictionaries, Series, Numpy ndarrays, Another DataFrame or straight from files and databases. \n",
    "\n",
    "\n",
    "__Examples:__"
   ]
  },
  {
   "cell_type": "code",
   "execution_count": 17,
   "metadata": {
    "ExecuteTime": {
     "end_time": "2019-07-18T12:07:34.268273Z",
     "start_time": "2019-07-18T12:07:34.256984Z"
    }
   },
   "outputs": [
    {
     "name": "stdout",
     "output_type": "stream",
     "text": [
      "      Name  Age\n",
      "0    Alice   20\n",
      "1      Bob   32\n",
      "2  Charlie   25\n"
     ]
    }
   ],
   "source": [
    "import pandas as pd\n",
    "data = [['Alice',20],['Bob',32],['Charlie',25]]\n",
    "df = pd.DataFrame(data, columns=['Name','Age'])\n",
    "print df"
   ]
  },
  {
   "cell_type": "code",
   "execution_count": 18,
   "metadata": {
    "ExecuteTime": {
     "end_time": "2019-07-18T12:08:13.296357Z",
     "start_time": "2019-07-18T12:08:13.284418Z"
    }
   },
   "outputs": [
    {
     "name": "stdout",
     "output_type": "stream",
     "text": [
      "   Age   Name\n",
      "0   28    Tom\n",
      "1   34   Jack\n",
      "2   29  Steve\n",
      "3   42  Ricky\n"
     ]
    }
   ],
   "source": [
    "# create a data frame from a dictionary\n",
    "data = {'Name':['Tom', 'Jack', 'Steve', 'Ricky'],\n",
    "        'Age' :[28,34,29,42]\n",
    "       }\n",
    "df = pd.DataFrame(data)\n",
    "print df"
   ]
  },
  {
   "cell_type": "code",
   "execution_count": 20,
   "metadata": {
    "ExecuteTime": {
     "end_time": "2019-07-18T12:10:26.418845Z",
     "start_time": "2019-07-18T12:10:26.404211Z"
    }
   },
   "outputs": [
    {
     "name": "stdout",
     "output_type": "stream",
     "text": [
      "   Age Title   name\n",
      "0   22   NaN  Felix\n",
      "1   19   NaN    Joe\n",
      "2   28   CEO  Alexa\n"
     ]
    }
   ],
   "source": [
    "# create a data frame from a list of dictionaries (e.g. a json list)\n",
    "data = [{'name': 'Felix', 'Age': 22},\n",
    "        {'name': 'Joe',   'Age': 19},\n",
    "        {'name': 'Alexa', 'Age': 28, 'Title' : 'CEO'},\n",
    "       ]\n",
    "df = pd.DataFrame(data)\n",
    "print df"
   ]
  },
  {
   "cell_type": "code",
   "execution_count": 21,
   "metadata": {
    "ExecuteTime": {
     "end_time": "2019-07-18T13:31:00.413610Z",
     "start_time": "2019-07-18T13:31:00.358585Z"
    }
   },
   "outputs": [
    {
     "name": "stdout",
     "output_type": "stream",
     "text": [
      "     Name  Age\n",
      "0    Alex   10\n",
      "1     Bob   12\n",
      "2  Clarke   13\n"
     ]
    }
   ],
   "source": [
    "import pandas as pd\n",
    "data = [['Alex',10],['Bob',12],['Clarke',13]]\n",
    "df = pd.DataFrame(data,columns=['Name','Age'])\n",
    "print df"
   ]
  },
  {
   "cell_type": "code",
   "execution_count": null,
   "metadata": {},
   "outputs": [],
   "source": []
  }
 ],
 "metadata": {
  "kernelspec": {
   "display_name": "Python 2",
   "language": "python",
   "name": "python2"
  },
  "language_info": {
   "codemirror_mode": {
    "name": "ipython",
    "version": 2
   },
   "file_extension": ".py",
   "mimetype": "text/x-python",
   "name": "python",
   "nbconvert_exporter": "python",
   "pygments_lexer": "ipython2",
   "version": "2.7.15"
  },
  "toc": {
   "base_numbering": 1,
   "nav_menu": {},
   "number_sections": true,
   "sideBar": true,
   "skip_h1_title": false,
   "title_cell": "Table of Contents",
   "title_sidebar": "Contents",
   "toc_cell": false,
   "toc_position": {},
   "toc_section_display": true,
   "toc_window_display": false
  },
  "varInspector": {
   "cols": {
    "lenName": 16,
    "lenType": 16,
    "lenVar": 40
   },
   "kernels_config": {
    "python": {
     "delete_cmd_postfix": "",
     "delete_cmd_prefix": "del ",
     "library": "var_list.py",
     "varRefreshCmd": "print(var_dic_list())"
    },
    "r": {
     "delete_cmd_postfix": ") ",
     "delete_cmd_prefix": "rm(",
     "library": "var_list.r",
     "varRefreshCmd": "cat(var_dic_list()) "
    }
   },
   "types_to_exclude": [
    "module",
    "function",
    "builtin_function_or_method",
    "instance",
    "_Feature"
   ],
   "window_display": false
  }
 },
 "nbformat": 4,
 "nbformat_minor": 2
}
