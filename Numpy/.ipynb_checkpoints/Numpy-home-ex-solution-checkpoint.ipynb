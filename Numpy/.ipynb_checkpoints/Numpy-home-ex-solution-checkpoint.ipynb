{
 "cells": [
  {
   "cell_type": "markdown",
   "metadata": {},
   "source": [
    "# Ready, Set, Numpy!\n",
    "\n",
    "### Generate six random integers between 10 and 30. \n"
   ]
  },
  {
   "cell_type": "code",
   "execution_count": 1,
   "metadata": {
    "ExecuteTime": {
     "end_time": "2019-07-18T09:57:50.626669Z",
     "start_time": "2019-07-18T09:57:50.612615Z"
    }
   },
   "outputs": [
    {
     "name": "stdout",
     "output_type": "stream",
     "text": [
      "[22 19 14 15 29 26]\n"
     ]
    }
   ],
   "source": [
    "import numpy as np\n",
    "x = np.random.randint(low=10, high=30, size=6)\n",
    "print(x)"
   ]
  },
  {
   "cell_type": "markdown",
   "metadata": {},
   "source": [
    "### Create a 5x5 array with random values and find the minimum and maximum values. \n",
    "\n"
   ]
  },
  {
   "cell_type": "code",
   "execution_count": 1,
   "metadata": {
    "ExecuteTime": {
     "end_time": "2019-07-21T13:56:25.699066Z",
     "start_time": "2019-07-21T13:56:25.690142Z"
    }
   },
   "outputs": [
    {
     "name": "stdout",
     "output_type": "stream",
     "text": [
      "\n",
      " Rnadom Array: \n",
      "  [[0.62838927 0.22972089 0.75818951 0.66248654 0.64897616]\n",
      " [0.99940387 0.35864226 0.11611768 0.32741717 0.64060808]\n",
      " [0.47036061 0.732664   0.24997353 0.93099727 0.44106126]\n",
      " [0.66077837 0.5936366  0.34962613 0.94075724 0.42175479]\n",
      " [0.03296304 0.22757846 0.31530152 0.40074404 0.53528151]]\n",
      "\n",
      "Min: 0.03296303521058286, Max: 0.9994038703445847\n"
     ]
    }
   ],
   "source": [
    "x = np.random.random((5,5))\n",
    "print(\"\\n Rnadom Array: \\n \", x)\n",
    "xmin = x.min()\n",
    "xmax = x.max()\n",
    "print(\"\\nMin: {0}, Max: {1}\".format(xmin, xmax))"
   ]
  },
  {
   "cell_type": "markdown",
   "metadata": {},
   "source": [
    "### Generate a random array of 10 elements between 1 and 100 and sort it in reverse"
   ]
  },
  {
   "cell_type": "code",
   "execution_count": 3,
   "metadata": {
    "ExecuteTime": {
     "end_time": "2019-07-21T13:56:39.476060Z",
     "start_time": "2019-07-21T13:56:39.463878Z"
    }
   },
   "outputs": [
    {
     "name": "stdout",
     "output_type": "stream",
     "text": [
      "[93 81 55 29 21 16]\n",
      "[93 81 55 29 21 16]\n"
     ]
    }
   ],
   "source": [
    "a = np.random.randint(low=0, high=100, size=6)\n",
    "a.sort()\n",
    "print(a[::-1])\n",
    "# this also works\n",
    "print(-np.sort(-a))"
   ]
  },
  {
   "cell_type": "markdown",
   "metadata": {},
   "source": [
    "### Generate a random 5X5 and calculate the mean of the 4th column"
   ]
  },
  {
   "cell_type": "code",
   "execution_count": 4,
   "metadata": {
    "ExecuteTime": {
     "end_time": "2019-07-21T13:56:50.380908Z",
     "start_time": "2019-07-21T13:56:50.375745Z"
    }
   },
   "outputs": [
    {
     "name": "stdout",
     "output_type": "stream",
     "text": [
      "[[0.62225848 0.09336329 0.71072307 0.99902104 0.6205038 ]\n",
      " [0.87547385 0.50500225 0.17850775 0.14516754 0.06911032]\n",
      " [0.37507904 0.57173349 0.39175441 0.90616302 0.22108099]\n",
      " [0.48949052 0.05819991 0.08855258 0.10179795 0.81511761]\n",
      " [0.11222138 0.35976791 0.25394679 0.5369228  0.78216008]]\n",
      "0.5378144704900412\n"
     ]
    }
   ],
   "source": [
    "a = np.random.random((5,5))\n",
    "print(a)\n",
    "print(a[:, 3].mean())"
   ]
  },
  {
   "cell_type": "markdown",
   "metadata": {},
   "source": [
    "### Generate a random 5X5 and calculate the STD of the 2nd row"
   ]
  },
  {
   "cell_type": "code",
   "execution_count": 5,
   "metadata": {
    "ExecuteTime": {
     "end_time": "2019-07-21T13:56:57.305296Z",
     "start_time": "2019-07-21T13:56:57.300046Z"
    }
   },
   "outputs": [
    {
     "name": "stdout",
     "output_type": "stream",
     "text": [
      "[[0.0596808  0.98513634 0.55166179 0.04136534 0.22834398]\n",
      " [0.221922   0.47796217 0.76672072 0.02529877 0.96360633]\n",
      " [0.10763341 0.37822452 0.25524433 0.56740322 0.51276593]\n",
      " [0.31354795 0.24059833 0.64091179 0.77059164 0.26050747]\n",
      " [0.76905926 0.08728768 0.020377   0.05811486 0.79298237]]\n",
      "0.16808201048568533\n"
     ]
    }
   ],
   "source": [
    "a = np.random.random((5,5))\n",
    "print(a)\n",
    "print(a[2,:].std())"
   ]
  },
  {
   "cell_type": "markdown",
   "metadata": {},
   "source": [
    "### Create an array of natural numbers between 0 and 10 and Replace all odd numbers in arr with -1 "
   ]
  },
  {
   "cell_type": "code",
   "execution_count": 6,
   "metadata": {
    "ExecuteTime": {
     "end_time": "2019-07-21T13:57:05.679114Z",
     "start_time": "2019-07-21T13:57:05.674287Z"
    }
   },
   "outputs": [
    {
     "name": "stdout",
     "output_type": "stream",
     "text": [
      "[0 1 2 3 4 5 6 7 8 9]\n",
      "[ 0 -1  2 -1  4 -1  6 -1  8 -1]\n"
     ]
    }
   ],
   "source": [
    "a = np.arange(10)\n",
    "out = np.where(a % 2 == 1, -1, a)\n",
    "print(a)\n",
    "print(out)"
   ]
  },
  {
   "cell_type": "code",
   "execution_count": null,
   "metadata": {},
   "outputs": [],
   "source": []
  }
 ],
 "metadata": {
  "kernelspec": {
   "display_name": "Python 3",
   "language": "python",
   "name": "python3"
  },
  "language_info": {
   "codemirror_mode": {
    "name": "ipython",
    "version": 3
   },
   "file_extension": ".py",
   "mimetype": "text/x-python",
   "name": "python",
   "nbconvert_exporter": "python",
   "pygments_lexer": "ipython3",
   "version": "3.7.1"
  },
  "toc": {
   "base_numbering": 1,
   "nav_menu": {},
   "number_sections": true,
   "sideBar": true,
   "skip_h1_title": false,
   "title_cell": "Table of Contents",
   "title_sidebar": "Contents",
   "toc_cell": false,
   "toc_position": {},
   "toc_section_display": true,
   "toc_window_display": false
  },
  "varInspector": {
   "cols": {
    "lenName": 16,
    "lenType": 16,
    "lenVar": 40
   },
   "kernels_config": {
    "python": {
     "delete_cmd_postfix": "",
     "delete_cmd_prefix": "del ",
     "library": "var_list.py",
     "varRefreshCmd": "print(var_dic_list())"
    },
    "r": {
     "delete_cmd_postfix": ") ",
     "delete_cmd_prefix": "rm(",
     "library": "var_list.r",
     "varRefreshCmd": "cat(var_dic_list()) "
    }
   },
   "types_to_exclude": [
    "module",
    "function",
    "builtin_function_or_method",
    "instance",
    "_Feature"
   ],
   "window_display": false
  }
 },
 "nbformat": 4,
 "nbformat_minor": 2
}
