{
 "cells": [
  {
   "cell_type": "markdown",
   "metadata": {},
   "source": [
    "# Ready, Set, Numpy!\n",
    "\n",
    "### Generate six random integers between 10 and 30. \n"
   ]
  },
  {
   "cell_type": "code",
   "execution_count": 1,
   "metadata": {
    "ExecuteTime": {
     "end_time": "2019-07-18T09:57:50.626669Z",
     "start_time": "2019-07-18T09:57:50.612615Z"
    }
   },
   "outputs": [
    {
     "name": "stdout",
     "output_type": "stream",
     "text": [
      "[22 19 14 15 29 26]\n"
     ]
    }
   ],
   "source": [
    "import numpy as np\n",
    "x = np.random.randint(low=10, high=30, size=6)\n",
    "print(x)"
   ]
  },
  {
   "cell_type": "markdown",
   "metadata": {},
   "source": [
    "### Create a 5x5 array with random values and find the minimum and maximum values. \n",
    "\n"
   ]
  },
  {
   "cell_type": "code",
   "execution_count": 6,
   "metadata": {
    "ExecuteTime": {
     "end_time": "2019-07-18T10:00:44.919880Z",
     "start_time": "2019-07-18T10:00:44.911399Z"
    }
   },
   "outputs": [
    {
     "name": "stdout",
     "output_type": "stream",
     "text": [
      "\n",
      " Rnadom Array: \n",
      "  [[0.6008805  0.67177642 0.86637007 0.61146205 0.36595393]\n",
      " [0.36939456 0.18687407 0.68418552 0.89547201 0.62487128]\n",
      " [0.88047403 0.47675521 0.17936388 0.35976603 0.31767848]\n",
      " [0.74011052 0.03530595 0.90657674 0.53947307 0.40715968]\n",
      " [0.94344932 0.81131275 0.48869846 0.24334982 0.81659812]]\n",
      "\n",
      "Min: 0.0353059511595, Max: 0.94344931673\n"
     ]
    }
   ],
   "source": [
    "x = np.random.random((5,5))\n",
    "print \"\\n Rnadom Array: \\n \", x\n",
    "xmin = x.min()\n",
    "xmax = x.max()\n",
    "print \"\\nMin: {0}, Max: {1}\".format(xmin, xmax)"
   ]
  },
  {
   "cell_type": "markdown",
   "metadata": {},
   "source": [
    "### Generate a random array of 10 elements between 1 and 100 and sort it in reverse"
   ]
  },
  {
   "cell_type": "code",
   "execution_count": 17,
   "metadata": {
    "ExecuteTime": {
     "end_time": "2019-07-18T10:08:15.471874Z",
     "start_time": "2019-07-18T10:08:15.464976Z"
    }
   },
   "outputs": [
    {
     "name": "stdout",
     "output_type": "stream",
     "text": [
      "[95 86 74 51 25  1]\n",
      "[95 86 74 51 25  1]\n"
     ]
    }
   ],
   "source": [
    "a = np.random.randint(low=0, high=100, size=6)\n",
    "a.sort()\n",
    "print a[::-1]\n",
    "# this also works\n",
    "print -np.sort(-a)"
   ]
  },
  {
   "cell_type": "markdown",
   "metadata": {},
   "source": [
    "### Generate a random 5X5 and calculate the mean of the 4th column"
   ]
  },
  {
   "cell_type": "code",
   "execution_count": 24,
   "metadata": {
    "ExecuteTime": {
     "end_time": "2019-07-18T10:12:34.182697Z",
     "start_time": "2019-07-18T10:12:34.174769Z"
    }
   },
   "outputs": [
    {
     "name": "stdout",
     "output_type": "stream",
     "text": [
      "[[0.60677981 0.84576365 0.40865218 0.38832382 0.21611487]\n",
      " [0.28871196 0.55431082 0.40901912 0.42445747 0.90671971]\n",
      " [0.57072344 0.27772334 0.78443645 0.88110446 0.36548902]\n",
      " [0.53720125 0.33425161 0.56006989 0.26884423 0.58441361]\n",
      " [0.97671095 0.01267271 0.43546166 0.17487836 0.155558  ]]\n",
      "0.4275216706700026\n"
     ]
    }
   ],
   "source": [
    "a = np.random.random((5,5))\n",
    "print a\n",
    "print a[:, 3].mean()"
   ]
  },
  {
   "cell_type": "markdown",
   "metadata": {},
   "source": [
    "### Generate a random 5X5 and calculate the STD of the 2nd row"
   ]
  },
  {
   "cell_type": "code",
   "execution_count": 25,
   "metadata": {
    "ExecuteTime": {
     "end_time": "2019-07-18T10:12:36.848224Z",
     "start_time": "2019-07-18T10:12:36.840715Z"
    }
   },
   "outputs": [
    {
     "name": "stdout",
     "output_type": "stream",
     "text": [
      "[[0.29134472 0.73785892 0.64018078 0.55741503 0.69372972]\n",
      " [0.03200123 0.43804778 0.93128634 0.3495726  0.26144235]\n",
      " [0.9351248  0.4964021  0.56689979 0.64090665 0.8327333 ]\n",
      " [0.94711485 0.57474609 0.00476071 0.6047949  0.3326981 ]\n",
      " [0.12273823 0.6266547  0.33864526 0.63755171 0.57893481]]\n",
      "0.1645633844991145\n"
     ]
    }
   ],
   "source": [
    "a = np.random.random((5,5))\n",
    "print a\n",
    "print a[2,:].std()"
   ]
  },
  {
   "cell_type": "markdown",
   "metadata": {},
   "source": [
    "### Create an array of natural numbers between 0 and 10 and Replace all odd numbers in arr with -1 "
   ]
  },
  {
   "cell_type": "code",
   "execution_count": 27,
   "metadata": {
    "ExecuteTime": {
     "end_time": "2019-07-18T10:24:17.749876Z",
     "start_time": "2019-07-18T10:24:17.742642Z"
    }
   },
   "outputs": [
    {
     "name": "stdout",
     "output_type": "stream",
     "text": [
      "[0 1 2 3 4 5 6 7 8 9]\n",
      "[ 0 -1  2 -1  4 -1  6 -1  8 -1]\n"
     ]
    }
   ],
   "source": [
    "a = np.arange(10)\n",
    "out = np.where(a % 2 == 1, -1, a)\n",
    "print a\n",
    "print out"
   ]
  },
  {
   "cell_type": "code",
   "execution_count": null,
   "metadata": {},
   "outputs": [],
   "source": []
  }
 ],
 "metadata": {
  "kernelspec": {
   "display_name": "Python 2",
   "language": "python",
   "name": "python2"
  },
  "language_info": {
   "codemirror_mode": {
    "name": "ipython",
    "version": 2
   },
   "file_extension": ".py",
   "mimetype": "text/x-python",
   "name": "python",
   "nbconvert_exporter": "python",
   "pygments_lexer": "ipython2",
   "version": "2.7.15"
  },
  "toc": {
   "base_numbering": 1,
   "nav_menu": {},
   "number_sections": true,
   "sideBar": true,
   "skip_h1_title": false,
   "title_cell": "Table of Contents",
   "title_sidebar": "Contents",
   "toc_cell": false,
   "toc_position": {},
   "toc_section_display": true,
   "toc_window_display": false
  },
  "varInspector": {
   "cols": {
    "lenName": 16,
    "lenType": 16,
    "lenVar": 40
   },
   "kernels_config": {
    "python": {
     "delete_cmd_postfix": "",
     "delete_cmd_prefix": "del ",
     "library": "var_list.py",
     "varRefreshCmd": "print(var_dic_list())"
    },
    "r": {
     "delete_cmd_postfix": ") ",
     "delete_cmd_prefix": "rm(",
     "library": "var_list.r",
     "varRefreshCmd": "cat(var_dic_list()) "
    }
   },
   "types_to_exclude": [
    "module",
    "function",
    "builtin_function_or_method",
    "instance",
    "_Feature"
   ],
   "window_display": false
  }
 },
 "nbformat": 4,
 "nbformat_minor": 2
}
