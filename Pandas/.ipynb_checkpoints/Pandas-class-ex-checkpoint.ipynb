{
 "cells": [
  {
   "cell_type": "markdown",
   "metadata": {},
   "source": [
    "\n",
    "\n",
    "<img src=\"https://pandas.pydata.org/_static/pandas_logo.png\"/>\n"
   ]
  },
  {
   "cell_type": "markdown",
   "metadata": {
    "ExecuteTime": {
     "end_time": "2019-07-18T23:35:50.205463Z",
     "start_time": "2019-07-18T23:35:50.200973Z"
    }
   },
   "source": [
    "# Lets explore an NBA dataset"
   ]
  },
  {
   "cell_type": "code",
   "execution_count": 3,
   "metadata": {
    "ExecuteTime": {
     "end_time": "2019-07-21T14:49:32.678111Z",
     "start_time": "2019-07-21T14:49:32.666880Z"
    }
   },
   "outputs": [],
   "source": [
    "import pandas as pd\n",
    "nba = pd.read_csv(\"./nba.csv\")\n",
    "\n",
    "# lets start with some basic exloration to see what we are dealing with\n",
    "#shape, head, describe"
   ]
  },
  {
   "cell_type": "code",
   "execution_count": null,
   "metadata": {
    "ExecuteTime": {
     "end_time": "2019-07-21T14:09:41.896828Z",
     "start_time": "2019-07-21T14:09:41.876355Z"
    }
   },
   "outputs": [],
   "source": []
  },
  {
   "cell_type": "code",
   "execution_count": null,
   "metadata": {
    "ExecuteTime": {
     "end_time": "2019-07-21T14:09:43.964647Z",
     "start_time": "2019-07-21T14:09:43.937731Z"
    }
   },
   "outputs": [],
   "source": []
  },
  {
   "cell_type": "code",
   "execution_count": null,
   "metadata": {
    "ExecuteTime": {
     "end_time": "2019-07-21T14:09:45.727400Z",
     "start_time": "2019-07-21T14:09:45.719889Z"
    }
   },
   "outputs": [],
   "source": []
  },
  {
   "cell_type": "code",
   "execution_count": 4,
   "metadata": {
    "ExecuteTime": {
     "end_time": "2019-07-21T14:49:56.529915Z",
     "start_time": "2019-07-21T14:49:56.524916Z"
    }
   },
   "outputs": [],
   "source": [
    "# so... what is the average salary of 'North Carolina' grads? \n"
   ]
  },
  {
   "cell_type": "code",
   "execution_count": 5,
   "metadata": {
    "ExecuteTime": {
     "end_time": "2019-07-21T14:50:05.346304Z",
     "start_time": "2019-07-21T14:50:05.340815Z"
    }
   },
   "outputs": [],
   "source": [
    "# Who is the tallest player in the Boston Celtics?"
   ]
  },
  {
   "cell_type": "code",
   "execution_count": 6,
   "metadata": {
    "ExecuteTime": {
     "end_time": "2019-07-21T14:50:08.904948Z",
     "start_time": "2019-07-21T14:50:08.900238Z"
    }
   },
   "outputs": [],
   "source": [
    "# Are age and Salary strongly correlated? \n"
   ]
  },
  {
   "cell_type": "code",
   "execution_count": 7,
   "metadata": {
    "ExecuteTime": {
     "end_time": "2019-07-21T14:50:12.229300Z",
     "start_time": "2019-07-21T14:50:12.223787Z"
    }
   },
   "outputs": [],
   "source": [
    "# what's the most common first names?\n"
   ]
  },
  {
   "cell_type": "code",
   "execution_count": null,
   "metadata": {},
   "outputs": [],
   "source": []
  }
 ],
 "metadata": {
  "kernelspec": {
   "display_name": "Python 2",
   "language": "python",
   "name": "python2"
  },
  "language_info": {
   "codemirror_mode": {
    "name": "ipython",
    "version": 2
   },
   "file_extension": ".py",
   "mimetype": "text/x-python",
   "name": "python",
   "nbconvert_exporter": "python",
   "pygments_lexer": "ipython2",
   "version": "2.7.15"
  },
  "toc": {
   "base_numbering": 1,
   "nav_menu": {},
   "number_sections": true,
   "sideBar": true,
   "skip_h1_title": false,
   "title_cell": "Table of Contents",
   "title_sidebar": "Contents",
   "toc_cell": false,
   "toc_position": {},
   "toc_section_display": true,
   "toc_window_display": false
  },
  "varInspector": {
   "cols": {
    "lenName": 16,
    "lenType": 16,
    "lenVar": 40
   },
   "kernels_config": {
    "python": {
     "delete_cmd_postfix": "",
     "delete_cmd_prefix": "del ",
     "library": "var_list.py",
     "varRefreshCmd": "print(var_dic_list())"
    },
    "r": {
     "delete_cmd_postfix": ") ",
     "delete_cmd_prefix": "rm(",
     "library": "var_list.r",
     "varRefreshCmd": "cat(var_dic_list()) "
    }
   },
   "types_to_exclude": [
    "module",
    "function",
    "builtin_function_or_method",
    "instance",
    "_Feature"
   ],
   "window_display": false
  }
 },
 "nbformat": 4,
 "nbformat_minor": 2
}
