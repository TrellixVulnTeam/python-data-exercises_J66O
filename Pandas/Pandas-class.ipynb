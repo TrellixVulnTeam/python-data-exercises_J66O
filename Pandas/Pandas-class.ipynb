{
 "cells": [
  {
   "cell_type": "markdown",
   "metadata": {},
   "source": [
    "\n",
    "\n",
    "<img src=\"https://pandas.pydata.org/_static/pandas_logo.png\"/>\n"
   ]
  },
  {
   "cell_type": "markdown",
   "metadata": {
    "ExecuteTime": {
     "end_time": "2019-07-18T11:25:53.774708Z",
     "start_time": "2019-07-18T11:25:53.765200Z"
    }
   },
   "source": [
    "# What is Pandas?\n",
    "_pandas_ is an open source, BSD-licensed library providing high-performance, easy-to-use data structures and data analysis tools for the Python programming language.\n",
    "\n",
    "Python with Pandas is used in a wide range of fields including academic and commercial domains including finance, economics, Statistics, analytics, etc. In this tutorial, we will learn the various features of Python Pandas and how to use them in practice."
   ]
  },
  {
   "cell_type": "markdown",
   "metadata": {},
   "source": [
    "## Pandas Key Features\n",
    "\n",
    "- Fast and efficient __DataFrame__ object with default and customized indexing.\n",
    "- Tools for loading data into __in-memory__ data objects from different file formats.\n",
    "- Data alignment and integrated handling of missing data.\n",
    "- __Reshaping__ and pivoting of date sets.\n",
    "- Label-based slicing, __indexing__ and subsetting of large data sets.\n",
    "- __Columns__ from a data structure can be deleted or inserted.\n",
    "- Group by data for __aggregation__ and transformations.\n",
    "- High performance __merging and joining__ of data.\n",
    "- __Time Series__ functionality.\n"
   ]
  },
  {
   "cell_type": "markdown",
   "metadata": {},
   "source": [
    "## Pandas Data Structures\n",
    "\n",
    "The main data structure in use by Pandas are:\n",
    "\n",
    "\t\t\n",
    "\n",
    "| Data Structure | Dimensions   | Description                                |\n",
    "|----------------|--------------|--------------------------------------------|\n",
    "|  Series        |       1      |              1D labeled homogeneous array  |\n",
    "|   Data Frame   |       2      |   General 2D labeled tabular structure     |\n",
    "| Panel  | 3|   General 3D labeled, size-mutable array.  |\n",
    "\n",
    "The more common data structure in analytical use is the __DataFrame__\n",
    "\n",
    "A __series__ is basically a list of objects of the same data type. \n",
    "\n",
    "A __DataFrame__ is group of series that are not necessarily of the same data type. \n",
    "\n"
   ]
  },
  {
   "cell_type": "markdown",
   "metadata": {},
   "source": [
    "## pandas.Series\n",
    "\n",
    "A series is an _indexed_ list of values of the same type, and of fix length. \n",
    "\n",
    "Let's see some ways to create a series in pandas.\n"
   ]
  },
  {
   "cell_type": "code",
   "execution_count": 69,
   "metadata": {
    "ExecuteTime": {
     "end_time": "2019-07-24T07:04:41.354531Z",
     "start_time": "2019-07-24T07:04:41.346785Z"
    }
   },
   "outputs": [
    {
     "name": "stdout",
     "output_type": "stream",
     "text": [
      "Series([], dtype: float64)\n"
     ]
    }
   ],
   "source": [
    "# creating an empty series\n",
    "\n",
    "#import the pandas library and aliasing as pd\n",
    "import numpy as np\n",
    "import pandas as pd\n",
    "\n",
    "s = pd.Series()\n",
    "print(s)"
   ]
  },
  {
   "cell_type": "code",
   "execution_count": 70,
   "metadata": {
    "ExecuteTime": {
     "end_time": "2019-07-24T07:04:41.831163Z",
     "start_time": "2019-07-24T07:04:41.824292Z"
    }
   },
   "outputs": [
    {
     "name": "stdout",
     "output_type": "stream",
     "text": [
      "100    a\n",
      "101    b\n",
      "102    c\n",
      "103    d\n",
      "dtype: object\n"
     ]
    }
   ],
   "source": [
    "# creating a series from a Numpy array. remember that series has an index!\n",
    "data = np.array(['a','b','c','d'])\n",
    "s = pd.Series(data,index=[100,101,102,103])\n",
    "print(s)"
   ]
  },
  {
   "cell_type": "code",
   "execution_count": 71,
   "metadata": {
    "ExecuteTime": {
     "end_time": "2019-07-24T07:04:42.366598Z",
     "start_time": "2019-07-24T07:04:42.358293Z"
    }
   },
   "outputs": [
    {
     "name": "stdout",
     "output_type": "stream",
     "text": [
      "a    0.0\n",
      "b    1.0\n",
      "c    2.0\n",
      "dtype: float64\n"
     ]
    }
   ],
   "source": [
    "# creating a series from a python Dictionary, while using the keys as index\n",
    "data = {'a' : 0., 'b' : 1., 'c' : 2.}\n",
    "s = pd.Series(data)\n",
    "print(s)"
   ]
  },
  {
   "cell_type": "code",
   "execution_count": 72,
   "metadata": {
    "ExecuteTime": {
     "end_time": "2019-07-24T07:04:42.940003Z",
     "start_time": "2019-07-24T07:04:42.932803Z"
    }
   },
   "outputs": [
    {
     "name": "stdout",
     "output_type": "stream",
     "text": [
      "0    5\n",
      "1    5\n",
      "2    5\n",
      "3    5\n",
      "4    5\n",
      "5    5\n",
      "6    5\n",
      "7    5\n",
      "8    5\n",
      "9    5\n",
      "dtype: int64\n"
     ]
    }
   ],
   "source": [
    "# create a repetitive series from a scalar\n",
    "s = pd.Series(5, index=range(0,10))\n",
    "print(s)"
   ]
  },
  {
   "cell_type": "markdown",
   "metadata": {},
   "source": [
    "### Accessing Series Data"
   ]
  },
  {
   "cell_type": "code",
   "execution_count": 73,
   "metadata": {
    "ExecuteTime": {
     "end_time": "2019-07-24T07:04:44.131668Z",
     "start_time": "2019-07-24T07:04:44.123116Z"
    }
   },
   "outputs": [
    {
     "name": "stdout",
     "output_type": "stream",
     "text": [
      "(1, '\\n')\n",
      "a    1\n",
      "b    2\n",
      "c    3\n",
      "dtype: int64\n"
     ]
    }
   ],
   "source": [
    "s = pd.Series([1,2,3,4,5],index = ['a','b','c','d','e'])\n",
    "\n",
    "# using the Pythonic list slice notion\n",
    "print(s[0], '\\n')\n",
    "print(s[:3])"
   ]
  },
  {
   "cell_type": "code",
   "execution_count": 74,
   "metadata": {
    "ExecuteTime": {
     "end_time": "2019-07-24T07:04:44.952037Z",
     "start_time": "2019-07-24T07:04:44.943973Z"
    }
   },
   "outputs": [
    {
     "name": "stdout",
     "output_type": "stream",
     "text": [
      "(2, '\\n')\n",
      "a    1\n",
      "b    2\n",
      "d    4\n",
      "dtype: int64\n"
     ]
    }
   ],
   "source": [
    "# get elements using their index: \n",
    "print(s['b'], '\\n')\n",
    "print(s[['a', 'b', 'd']])\n"
   ]
  },
  {
   "cell_type": "markdown",
   "metadata": {},
   "source": [
    "### Series Attributes \n"
   ]
  },
  {
   "cell_type": "code",
   "execution_count": 75,
   "metadata": {
    "ExecuteTime": {
     "end_time": "2019-07-24T07:04:45.955456Z",
     "start_time": "2019-07-24T07:04:45.948409Z"
    }
   },
   "outputs": [
    {
     "name": "stdout",
     "output_type": "stream",
     "text": [
      "4\n"
     ]
    }
   ],
   "source": [
    "# size returns the length of the series\n",
    "s = pd.Series(np.random.randn(4))\n",
    "print(s.size)\n"
   ]
  },
  {
   "cell_type": "code",
   "execution_count": 76,
   "metadata": {
    "ExecuteTime": {
     "end_time": "2019-07-24T07:04:46.437380Z",
     "start_time": "2019-07-24T07:04:46.430960Z"
    }
   },
   "outputs": [
    {
     "name": "stdout",
     "output_type": "stream",
     "text": [
      "[-0.40229121 -0.51855802  0.44540257  0.41885138]\n"
     ]
    }
   ],
   "source": [
    "# 'values' returns the list of values without the index\n",
    "print(s.values)\n"
   ]
  },
  {
   "cell_type": "code",
   "execution_count": 77,
   "metadata": {
    "ExecuteTime": {
     "end_time": "2019-07-24T07:04:46.842228Z",
     "start_time": "2019-07-24T07:04:46.835170Z"
    }
   },
   "outputs": [
    {
     "name": "stdout",
     "output_type": "stream",
     "text": [
      "[1 2]\n",
      "[6 7 8 9]\n"
     ]
    }
   ],
   "source": [
    "# use the 'head' and tail functions to get the first or last elements in the series\n",
    "s = pd.Series([1,2,3,4,5,6,7,8,9])\n",
    "print(s.head(2).values)\n",
    "print(s.tail(-5).values)\n",
    "\n"
   ]
  },
  {
   "cell_type": "markdown",
   "metadata": {},
   "source": [
    "<hr></hr>\n"
   ]
  },
  {
   "cell_type": "markdown",
   "metadata": {},
   "source": [
    "## Time to Exercise 🏋️"
   ]
  },
  {
   "cell_type": "markdown",
   "metadata": {},
   "source": [
    "### Reveiew the pd.Series? documentation"
   ]
  },
  {
   "cell_type": "code",
   "execution_count": 79,
   "metadata": {
    "ExecuteTime": {
     "end_time": "2019-07-24T07:06:23.901320Z",
     "start_time": "2019-07-24T07:06:23.892575Z"
    }
   },
   "outputs": [],
   "source": [
    "pd.Series?\n"
   ]
  },
  {
   "cell_type": "markdown",
   "metadata": {},
   "source": [
    "### Create a pandas series of odd numbers between 1 to 100"
   ]
  },
  {
   "cell_type": "code",
   "execution_count": 41,
   "metadata": {
    "ExecuteTime": {
     "end_time": "2019-07-24T07:02:34.598956Z",
     "start_time": "2019-07-24T07:02:34.578606Z"
    }
   },
   "outputs": [
    {
     "data": {
      "text/plain": [
       "0      1\n",
       "1      3\n",
       "2      5\n",
       "3      7\n",
       "4      9\n",
       "5     11\n",
       "6     13\n",
       "7     15\n",
       "8     17\n",
       "9     19\n",
       "10    21\n",
       "11    23\n",
       "12    25\n",
       "13    27\n",
       "14    29\n",
       "15    31\n",
       "16    33\n",
       "17    35\n",
       "18    37\n",
       "19    39\n",
       "20    41\n",
       "21    43\n",
       "22    45\n",
       "23    47\n",
       "24    49\n",
       "25    51\n",
       "26    53\n",
       "27    55\n",
       "28    57\n",
       "29    59\n",
       "30    61\n",
       "31    63\n",
       "32    65\n",
       "33    67\n",
       "34    69\n",
       "35    71\n",
       "36    73\n",
       "37    75\n",
       "38    77\n",
       "39    79\n",
       "40    81\n",
       "41    83\n",
       "42    85\n",
       "43    87\n",
       "44    89\n",
       "45    91\n",
       "46    93\n",
       "47    95\n",
       "48    97\n",
       "49    99\n",
       "dtype: int64"
      ]
     },
     "execution_count": 41,
     "metadata": {},
     "output_type": "execute_result"
    }
   ],
   "source": [
    "my_vals = list(range(1,100))\n",
    "odds = [val for val in my_vals if val % 2 == 1]\n",
    "pd.Series(odds)"
   ]
  },
  {
   "cell_type": "markdown",
   "metadata": {},
   "source": [
    "### Create a pandas series from a python dictionary of length = 10 of {a : 1, b: 2...} "
   ]
  },
  {
   "cell_type": "code",
   "execution_count": 80,
   "metadata": {
    "ExecuteTime": {
     "end_time": "2019-07-24T07:06:30.444786Z",
     "start_time": "2019-07-24T07:06:30.429321Z"
    }
   },
   "outputs": [
    {
     "data": {
      "text/plain": [
       "a     1\n",
       "b     2\n",
       "c     3\n",
       "d     4\n",
       "e     5\n",
       "f     6\n",
       "g     7\n",
       "h     8\n",
       "i     9\n",
       "j    10\n",
       "dtype: int64"
      ]
     },
     "execution_count": 80,
     "metadata": {},
     "output_type": "execute_result"
    }
   ],
   "source": [
    "my_s = pd.Series({'a' : 1, \n",
    "           'b' : 2, \n",
    "           'c' : 3, \n",
    "           'd' : 4, \n",
    "           'e' : 5, \n",
    "           'f' : 6, \n",
    "           'g' : 7, \n",
    "           'h' : 8, \n",
    "           'i' : 9, \n",
    "           'j' : 10})\n",
    "my_s"
   ]
  },
  {
   "cell_type": "markdown",
   "metadata": {},
   "source": [
    "### Use the series you've created to print the numeric values of  'd + j' and of 'e - f'"
   ]
  },
  {
   "cell_type": "code",
   "execution_count": 81,
   "metadata": {
    "ExecuteTime": {
     "end_time": "2019-07-24T07:06:32.232309Z",
     "start_time": "2019-07-24T07:06:32.226309Z"
    }
   },
   "outputs": [
    {
     "name": "stdout",
     "output_type": "stream",
     "text": [
      "('d + j = ', 14)\n",
      "('e - f = ', -1)\n"
     ]
    }
   ],
   "source": [
    "print(\"d + j = \", my_s['d'] + my_s['j'])\n",
    "print(\"e - f = \", my_s['e'] - my_s['f'])"
   ]
  },
  {
   "cell_type": "markdown",
   "metadata": {},
   "source": [
    "### You are given a series of unknown length, slice out the middle third of it, without checking it's size first"
   ]
  },
  {
   "cell_type": "code",
   "execution_count": 82,
   "metadata": {
    "ExecuteTime": {
     "end_time": "2019-07-24T07:06:33.571269Z",
     "start_time": "2019-07-24T07:06:33.554394Z"
    }
   },
   "outputs": [
    {
     "data": {
      "text/plain": [
       "0        0\n",
       "1        1\n",
       "2        2\n",
       "3        3\n",
       "4        4\n",
       "5        5\n",
       "6        6\n",
       "7        7\n",
       "8        8\n",
       "9        9\n",
       "10      10\n",
       "11      11\n",
       "12      12\n",
       "13      13\n",
       "14      14\n",
       "15      15\n",
       "16      16\n",
       "17      17\n",
       "18      18\n",
       "19      19\n",
       "20      20\n",
       "21      21\n",
       "22      22\n",
       "23      23\n",
       "24      24\n",
       "25      25\n",
       "26      26\n",
       "27      27\n",
       "28      28\n",
       "29      29\n",
       "      ... \n",
       "166    166\n",
       "167    167\n",
       "168    168\n",
       "169    169\n",
       "170    170\n",
       "171    171\n",
       "172    172\n",
       "173    173\n",
       "174    174\n",
       "175    175\n",
       "176    176\n",
       "177    177\n",
       "178    178\n",
       "179    179\n",
       "180    180\n",
       "181    181\n",
       "182    182\n",
       "183    183\n",
       "184    184\n",
       "185    185\n",
       "186    186\n",
       "187    187\n",
       "188    188\n",
       "189    189\n",
       "190    190\n",
       "191    191\n",
       "192    192\n",
       "193    193\n",
       "194    194\n",
       "195    195\n",
       "Length: 196, dtype: int64"
      ]
     },
     "execution_count": 82,
     "metadata": {},
     "output_type": "execute_result"
    }
   ],
   "source": [
    "random_size = np.random.randint(100,200)\n",
    "ints_between_100_and_200 = list(range(0,200))\n",
    "ints_list_random_length = ints_between_100_and_200[ : random_size]\n",
    "ints_list_random_length = pd.Series(ints_list_random_length)\n",
    "ints_list_random_length\n"
   ]
  },
  {
   "cell_type": "code",
   "execution_count": 83,
   "metadata": {
    "ExecuteTime": {
     "end_time": "2019-07-24T07:06:34.117640Z",
     "start_time": "2019-07-24T07:06:34.106838Z"
    }
   },
   "outputs": [
    {
     "name": "stdout",
     "output_type": "stream",
     "text": [
      "65      65\n",
      "66      66\n",
      "67      67\n",
      "68      68\n",
      "69      69\n",
      "70      70\n",
      "71      71\n",
      "72      72\n",
      "73      73\n",
      "74      74\n",
      "75      75\n",
      "76      76\n",
      "77      77\n",
      "78      78\n",
      "79      79\n",
      "80      80\n",
      "81      81\n",
      "82      82\n",
      "83      83\n",
      "84      84\n",
      "85      85\n",
      "86      86\n",
      "87      87\n",
      "88      88\n",
      "89      89\n",
      "90      90\n",
      "91      91\n",
      "92      92\n",
      "93      93\n",
      "94      94\n",
      "      ... \n",
      "100    100\n",
      "101    101\n",
      "102    102\n",
      "103    103\n",
      "104    104\n",
      "105    105\n",
      "106    106\n",
      "107    107\n",
      "108    108\n",
      "109    109\n",
      "110    110\n",
      "111    111\n",
      "112    112\n",
      "113    113\n",
      "114    114\n",
      "115    115\n",
      "116    116\n",
      "117    117\n",
      "118    118\n",
      "119    119\n",
      "120    120\n",
      "121    121\n",
      "122    122\n",
      "123    123\n",
      "124    124\n",
      "125    125\n",
      "126    126\n",
      "127    127\n",
      "128    128\n",
      "129    129\n",
      "Length: 65, dtype: int64\n"
     ]
    }
   ],
   "source": [
    "# now print the middle third section\n",
    "\n",
    "series_length = ints_list_random_length.size \n",
    "first_interval_index = int(series_length / 3)\n",
    "second_interval_index = int(first_interval_index * 2)\n",
    "\n",
    "print(ints_list_random_length[first_interval_index:second_interval_index])"
   ]
  },
  {
   "cell_type": "markdown",
   "metadata": {},
   "source": [
    "<hr>"
   ]
  },
  {
   "cell_type": "markdown",
   "metadata": {},
   "source": [
    "## The DataFrame\n",
    "\n",
    "Pandas data frames is a Tabular-like  data structures, combining indexed rows and named columns. \n",
    "\n",
    "A DataFrame can be created from Lists, Dictionaries, Series, Numpy ndarrays, Another DataFrame or straight from files and databases. \n",
    "\n",
    "\n",
    "__Examples:__"
   ]
  },
  {
   "cell_type": "code",
   "execution_count": 84,
   "metadata": {
    "ExecuteTime": {
     "end_time": "2019-07-24T07:06:36.545516Z",
     "start_time": "2019-07-24T07:06:36.534977Z"
    }
   },
   "outputs": [
    {
     "name": "stdout",
     "output_type": "stream",
     "text": [
      "      Name  Age\n",
      "0    Alice   20\n",
      "1      Bob   32\n",
      "2  Charlie   25\n"
     ]
    }
   ],
   "source": [
    "import pandas as pd\n",
    "data = [['Alice',20],['Bob',32],['Charlie',25]]\n",
    "df = pd.DataFrame(data, columns=['Name','Age'])\n",
    "print(df)"
   ]
  },
  {
   "cell_type": "code",
   "execution_count": 85,
   "metadata": {
    "ExecuteTime": {
     "end_time": "2019-07-24T07:06:37.439287Z",
     "start_time": "2019-07-24T07:06:37.428121Z"
    }
   },
   "outputs": [
    {
     "name": "stdout",
     "output_type": "stream",
     "text": [
      "   Age   Name\n",
      "0   28    Tom\n",
      "1   34   Jack\n",
      "2   29  Steve\n",
      "3   42  Ricky\n"
     ]
    }
   ],
   "source": [
    "# create a data frame from a dictionary\n",
    "data = {'Name':['Tom', 'Jack', 'Steve', 'Ricky'],\n",
    "        'Age' :[28,34,29,42]\n",
    "       }\n",
    "df = pd.DataFrame(data)\n",
    "print(df)"
   ]
  },
  {
   "cell_type": "code",
   "execution_count": 86,
   "metadata": {
    "ExecuteTime": {
     "end_time": "2019-07-24T07:06:38.631259Z",
     "start_time": "2019-07-24T07:06:38.618539Z"
    }
   },
   "outputs": [
    {
     "name": "stdout",
     "output_type": "stream",
     "text": [
      "   Age Title   name\n",
      "0   22   NaN  Felix\n",
      "1   19   NaN    Joe\n",
      "2   28   CEO  Alexa\n"
     ]
    }
   ],
   "source": [
    "# create a data frame from a list of dictionaries (e.g. a json list)\n",
    "data = [{'name': 'Felix', 'Age': 22},\n",
    "        {'name': 'Joe',   'Age': 19},\n",
    "        {'name': 'Alexa', 'Age': 28, 'Title' : 'CEO'},\n",
    "       ]\n",
    "df = pd.DataFrame(data)\n",
    "print(df)"
   ]
  },
  {
   "cell_type": "code",
   "execution_count": 87,
   "metadata": {
    "ExecuteTime": {
     "end_time": "2019-07-24T07:06:39.741830Z",
     "start_time": "2019-07-24T07:06:39.731475Z"
    }
   },
   "outputs": [
    {
     "name": "stdout",
     "output_type": "stream",
     "text": [
      "     Name  Age\n",
      "0    Alex   10\n",
      "1     Bob   12\n",
      "2  Clarke   13\n"
     ]
    }
   ],
   "source": [
    "import pandas as pd\n",
    "data = [['Alex',10],['Bob',12],['Clarke',13]]\n",
    "df = pd.DataFrame(data,columns=['Name','Age'])\n",
    "print(df)\n"
   ]
  },
  {
   "cell_type": "markdown",
   "metadata": {},
   "source": [
    "### DataFrame attributes and functionality\n",
    "Pandas Data Frames shares similar functionalities to Numpy. For example:\n",
    "\n",
    "__df.transpose__ -  Transposes rows and columns. \n",
    "\n",
    "__axes__ - Returns a list with the row axis labels and column axis labels. \n",
    "\n",
    "__dtypes__ - Returns the columns dtypes. \n",
    "\n",
    "__ndim__ - Number of axes / array dimensions. \n",
    "\n",
    "__shape__ - The dimensionality of the DataFrame. \n",
    "\n",
    "__size__ - Number of elements in the DataFrame. \n",
    "\n",
    "__head(n)__ - Returns the first n rows. \n",
    "\n",
    "__tail(n)__ - Returns last n rows. \n"
   ]
  },
  {
   "cell_type": "markdown",
   "metadata": {},
   "source": [
    "### Pandas and Descriptive Statistics\n",
    "\n",
    "Pandas has many built in functionality to easly explore your datasets. \n",
    "\n",
    "The common functions are _count()_, _sum()_, _mean()_, _median()_, _mode()_, _std()_, _min()_, _max()_ and a few more. \n",
    "\n",
    "Ususally, aggregative function accepts an _axis_ parameter to indicate a _row_ or _column_ aggregation. \n",
    "\n",
    "Pandas also have a usefull __describe()__ function to apply a list of descriptive functions at once.\n"
   ]
  },
  {
   "cell_type": "code",
   "execution_count": 88,
   "metadata": {
    "ExecuteTime": {
     "end_time": "2019-07-24T07:06:44.124889Z",
     "start_time": "2019-07-24T07:06:44.085314Z"
    }
   },
   "outputs": [
    {
     "data": {
      "text/html": [
       "<div>\n",
       "<style scoped>\n",
       "    .dataframe tbody tr th:only-of-type {\n",
       "        vertical-align: middle;\n",
       "    }\n",
       "\n",
       "    .dataframe tbody tr th {\n",
       "        vertical-align: top;\n",
       "    }\n",
       "\n",
       "    .dataframe thead th {\n",
       "        text-align: right;\n",
       "    }\n",
       "</style>\n",
       "<table border=\"1\" class=\"dataframe\">\n",
       "  <thead>\n",
       "    <tr style=\"text-align: right;\">\n",
       "      <th></th>\n",
       "      <th>age</th>\n",
       "      <th>grade</th>\n",
       "    </tr>\n",
       "  </thead>\n",
       "  <tbody>\n",
       "    <tr>\n",
       "      <th>count</th>\n",
       "      <td>10.000000</td>\n",
       "      <td>9.000000</td>\n",
       "    </tr>\n",
       "    <tr>\n",
       "      <th>mean</th>\n",
       "      <td>24.600000</td>\n",
       "      <td>79.333333</td>\n",
       "    </tr>\n",
       "    <tr>\n",
       "      <th>std</th>\n",
       "      <td>2.221111</td>\n",
       "      <td>15.491933</td>\n",
       "    </tr>\n",
       "    <tr>\n",
       "      <th>min</th>\n",
       "      <td>21.000000</td>\n",
       "      <td>48.000000</td>\n",
       "    </tr>\n",
       "    <tr>\n",
       "      <th>25%</th>\n",
       "      <td>23.250000</td>\n",
       "      <td>72.000000</td>\n",
       "    </tr>\n",
       "    <tr>\n",
       "      <th>50%</th>\n",
       "      <td>24.500000</td>\n",
       "      <td>81.000000</td>\n",
       "    </tr>\n",
       "    <tr>\n",
       "      <th>75%</th>\n",
       "      <td>26.000000</td>\n",
       "      <td>91.000000</td>\n",
       "    </tr>\n",
       "    <tr>\n",
       "      <th>max</th>\n",
       "      <td>28.000000</td>\n",
       "      <td>97.000000</td>\n",
       "    </tr>\n",
       "  </tbody>\n",
       "</table>\n",
       "</div>"
      ],
      "text/plain": [
       "             age      grade\n",
       "count  10.000000   9.000000\n",
       "mean   24.600000  79.333333\n",
       "std     2.221111  15.491933\n",
       "min    21.000000  48.000000\n",
       "25%    23.250000  72.000000\n",
       "50%    24.500000  81.000000\n",
       "75%    26.000000  91.000000\n",
       "max    28.000000  97.000000"
      ]
     },
     "execution_count": 88,
     "metadata": {},
     "output_type": "execute_result"
    }
   ],
   "source": [
    "df = pd.DataFrame([\n",
    "    {'name': 'Alice',    'age': 23,  'grade': 78},\n",
    "    {'name': 'Bob',      'age': 26,  'grade': 48},\n",
    "    {'name': 'Charlie',  'age': 21,  'grade': 92},\n",
    "    {'name': 'Dave',     'age': 22,  'grade': 89},\n",
    "    {'name': 'Eve',      'age': 27              },\n",
    "    {'name': 'Frank',    'age': 28,  'grade': 81},\n",
    "    {'name': 'Greg',     'age': 24,  'grade': 72},\n",
    "    {'name': 'Grace',    'age': 25,  'grade': 97},\n",
    "    {'name': 'Heidi',    'age': 26,  'grade': 91},\n",
    "    {'name': 'Judy',     'age': 24,  'grade': 66}\n",
    "])\n",
    "\n",
    "df.describe()"
   ]
  },
  {
   "cell_type": "markdown",
   "metadata": {},
   "source": [
    "#### Playing around with DataFrames\n"
   ]
  },
  {
   "cell_type": "code",
   "execution_count": 89,
   "metadata": {
    "ExecuteTime": {
     "end_time": "2019-07-24T07:06:45.131400Z",
     "start_time": "2019-07-24T07:06:45.120459Z"
    }
   },
   "outputs": [
    {
     "data": {
      "text/plain": [
       "0    23\n",
       "1    26\n",
       "2    21\n",
       "3    22\n",
       "4    27\n",
       "5    28\n",
       "6    24\n",
       "7    25\n",
       "8    26\n",
       "9    24\n",
       "Name: age, dtype: int64"
      ]
     },
     "execution_count": 89,
     "metadata": {},
     "output_type": "execute_result"
    }
   ],
   "source": [
    "# list all students ages\n",
    "df['age']"
   ]
  },
  {
   "cell_type": "code",
   "execution_count": 90,
   "metadata": {
    "ExecuteTime": {
     "end_time": "2019-07-24T07:06:45.400511Z",
     "start_time": "2019-07-24T07:06:45.390991Z"
    }
   },
   "outputs": [
    {
     "data": {
      "text/plain": [
       "24.6"
      ]
     },
     "execution_count": 90,
     "metadata": {},
     "output_type": "execute_result"
    }
   ],
   "source": [
    "# What's the class avg score?\n",
    "df['age'].mean()"
   ]
  },
  {
   "cell_type": "code",
   "execution_count": 91,
   "metadata": {
    "ExecuteTime": {
     "end_time": "2019-07-24T07:06:45.635123Z",
     "start_time": "2019-07-24T07:06:45.627211Z"
    }
   },
   "outputs": [
    {
     "name": "stdout",
     "output_type": "stream",
     "text": [
      "2    92.0\n",
      "7    97.0\n",
      "4     NaN\n",
      "Name: grade, dtype: float64\n"
     ]
    }
   ],
   "source": [
    "# What are the top three grades?\n",
    "ages = df['grade'].sort_values() # remember that a 'column is actually a pandas series'\n",
    "print(ages.tail(3))"
   ]
  },
  {
   "cell_type": "code",
   "execution_count": 92,
   "metadata": {
    "ExecuteTime": {
     "end_time": "2019-07-24T07:06:45.852348Z",
     "start_time": "2019-07-24T07:06:45.840661Z"
    }
   },
   "outputs": [
    {
     "data": {
      "text/plain": [
       "8    91.0\n",
       "2    92.0\n",
       "7    97.0\n",
       "Name: grade, dtype: float64"
      ]
     },
     "execution_count": 92,
     "metadata": {},
     "output_type": "execute_result"
    }
   ],
   "source": [
    "# mm that wasn't cool. lets filter out the NaN using the dropna function\n",
    "ages.dropna().tail(3)"
   ]
  },
  {
   "cell_type": "code",
   "execution_count": 93,
   "metadata": {
    "ExecuteTime": {
     "end_time": "2019-07-24T07:06:46.054133Z",
     "start_time": "2019-07-24T07:06:46.033384Z"
    }
   },
   "outputs": [
    {
     "data": {
      "text/html": [
       "<div>\n",
       "<style scoped>\n",
       "    .dataframe tbody tr th:only-of-type {\n",
       "        vertical-align: middle;\n",
       "    }\n",
       "\n",
       "    .dataframe tbody tr th {\n",
       "        vertical-align: top;\n",
       "    }\n",
       "\n",
       "    .dataframe thead th {\n",
       "        text-align: right;\n",
       "    }\n",
       "</style>\n",
       "<table border=\"1\" class=\"dataframe\">\n",
       "  <thead>\n",
       "    <tr style=\"text-align: right;\">\n",
       "      <th></th>\n",
       "      <th>name</th>\n",
       "      <th>age</th>\n",
       "    </tr>\n",
       "  </thead>\n",
       "  <tbody>\n",
       "    <tr>\n",
       "      <th>0</th>\n",
       "      <td>Alice</td>\n",
       "      <td>23</td>\n",
       "    </tr>\n",
       "    <tr>\n",
       "      <th>1</th>\n",
       "      <td>Bob</td>\n",
       "      <td>26</td>\n",
       "    </tr>\n",
       "    <tr>\n",
       "      <th>2</th>\n",
       "      <td>Charlie</td>\n",
       "      <td>21</td>\n",
       "    </tr>\n",
       "    <tr>\n",
       "      <th>3</th>\n",
       "      <td>Dave</td>\n",
       "      <td>22</td>\n",
       "    </tr>\n",
       "    <tr>\n",
       "      <th>4</th>\n",
       "      <td>Eve</td>\n",
       "      <td>27</td>\n",
       "    </tr>\n",
       "    <tr>\n",
       "      <th>5</th>\n",
       "      <td>Frank</td>\n",
       "      <td>28</td>\n",
       "    </tr>\n",
       "    <tr>\n",
       "      <th>6</th>\n",
       "      <td>Greg</td>\n",
       "      <td>24</td>\n",
       "    </tr>\n",
       "    <tr>\n",
       "      <th>7</th>\n",
       "      <td>Grace</td>\n",
       "      <td>25</td>\n",
       "    </tr>\n",
       "    <tr>\n",
       "      <th>8</th>\n",
       "      <td>Heidi</td>\n",
       "      <td>26</td>\n",
       "    </tr>\n",
       "    <tr>\n",
       "      <th>9</th>\n",
       "      <td>Judy</td>\n",
       "      <td>24</td>\n",
       "    </tr>\n",
       "  </tbody>\n",
       "</table>\n",
       "</div>"
      ],
      "text/plain": [
       "      name  age\n",
       "0    Alice   23\n",
       "1      Bob   26\n",
       "2  Charlie   21\n",
       "3     Dave   22\n",
       "4      Eve   27\n",
       "5    Frank   28\n",
       "6     Greg   24\n",
       "7    Grace   25\n",
       "8    Heidi   26\n",
       "9     Judy   24"
      ]
     },
     "execution_count": 93,
     "metadata": {},
     "output_type": "execute_result"
    }
   ],
   "source": [
    "# lets slice the name and age columns\n",
    "new_df = df[['name', 'age']]\n",
    "new_df"
   ]
  },
  {
   "cell_type": "markdown",
   "metadata": {
    "ExecuteTime": {
     "end_time": "2019-07-18T21:42:17.924828Z",
     "start_time": "2019-07-18T21:42:17.815338Z"
    }
   },
   "source": [
    "### Selecting Data from a DataFrame\n",
    "\n",
    "We've seen an example of selecting a single or multiple columns. \n",
    "\n",
    "Lets see a few more options for Multi-axes slicing.\n",
    "\n",
    "__df.loc[]__ - Lable based slicing. \n",
    "\n",
    "__df.iloc[]__ - integer index based slicing. \n",
    "\n",
    "\n",
    "__loc__ has a few methods to access data:\n",
    "\n",
    "- A single scalar label\n",
    "- A list of labels\n",
    "- A slice object\n",
    "- A Boolean array\n",
    "\n",
    "Let see some examples:\n",
    "\n"
   ]
  },
  {
   "cell_type": "code",
   "execution_count": 94,
   "metadata": {
    "ExecuteTime": {
     "end_time": "2019-07-24T07:06:46.400277Z",
     "start_time": "2019-07-24T07:06:46.380334Z"
    }
   },
   "outputs": [
    {
     "data": {
      "text/html": [
       "<div>\n",
       "<style scoped>\n",
       "    .dataframe tbody tr th:only-of-type {\n",
       "        vertical-align: middle;\n",
       "    }\n",
       "\n",
       "    .dataframe tbody tr th {\n",
       "        vertical-align: top;\n",
       "    }\n",
       "\n",
       "    .dataframe thead th {\n",
       "        text-align: right;\n",
       "    }\n",
       "</style>\n",
       "<table border=\"1\" class=\"dataframe\">\n",
       "  <thead>\n",
       "    <tr style=\"text-align: right;\">\n",
       "      <th></th>\n",
       "      <th>age</th>\n",
       "      <th>grade</th>\n",
       "      <th>name</th>\n",
       "    </tr>\n",
       "  </thead>\n",
       "  <tbody>\n",
       "    <tr>\n",
       "      <th>0</th>\n",
       "      <td>23</td>\n",
       "      <td>78.0</td>\n",
       "      <td>Alice</td>\n",
       "    </tr>\n",
       "    <tr>\n",
       "      <th>1</th>\n",
       "      <td>26</td>\n",
       "      <td>48.0</td>\n",
       "      <td>Bob</td>\n",
       "    </tr>\n",
       "    <tr>\n",
       "      <th>2</th>\n",
       "      <td>21</td>\n",
       "      <td>92.0</td>\n",
       "      <td>Charlie</td>\n",
       "    </tr>\n",
       "    <tr>\n",
       "      <th>3</th>\n",
       "      <td>22</td>\n",
       "      <td>89.0</td>\n",
       "      <td>Dave</td>\n",
       "    </tr>\n",
       "    <tr>\n",
       "      <th>4</th>\n",
       "      <td>27</td>\n",
       "      <td>NaN</td>\n",
       "      <td>Eve</td>\n",
       "    </tr>\n",
       "    <tr>\n",
       "      <th>5</th>\n",
       "      <td>28</td>\n",
       "      <td>81.0</td>\n",
       "      <td>Frank</td>\n",
       "    </tr>\n",
       "    <tr>\n",
       "      <th>6</th>\n",
       "      <td>24</td>\n",
       "      <td>72.0</td>\n",
       "      <td>Greg</td>\n",
       "    </tr>\n",
       "    <tr>\n",
       "      <th>7</th>\n",
       "      <td>25</td>\n",
       "      <td>97.0</td>\n",
       "      <td>Grace</td>\n",
       "    </tr>\n",
       "    <tr>\n",
       "      <th>8</th>\n",
       "      <td>26</td>\n",
       "      <td>91.0</td>\n",
       "      <td>Heidi</td>\n",
       "    </tr>\n",
       "    <tr>\n",
       "      <th>9</th>\n",
       "      <td>24</td>\n",
       "      <td>66.0</td>\n",
       "      <td>Judy</td>\n",
       "    </tr>\n",
       "  </tbody>\n",
       "</table>\n",
       "</div>"
      ],
      "text/plain": [
       "   age  grade     name\n",
       "0   23   78.0    Alice\n",
       "1   26   48.0      Bob\n",
       "2   21   92.0  Charlie\n",
       "3   22   89.0     Dave\n",
       "4   27    NaN      Eve\n",
       "5   28   81.0    Frank\n",
       "6   24   72.0     Greg\n",
       "7   25   97.0    Grace\n",
       "8   26   91.0    Heidi\n",
       "9   24   66.0     Judy"
      ]
     },
     "execution_count": 94,
     "metadata": {},
     "output_type": "execute_result"
    }
   ],
   "source": [
    "df"
   ]
  },
  {
   "cell_type": "code",
   "execution_count": 95,
   "metadata": {
    "ExecuteTime": {
     "end_time": "2019-07-24T07:06:46.650394Z",
     "start_time": "2019-07-24T07:06:46.638797Z"
    }
   },
   "outputs": [
    {
     "data": {
      "text/plain": [
       "0    78.0\n",
       "1    48.0\n",
       "2    92.0\n",
       "3    89.0\n",
       "4     NaN\n",
       "5    81.0\n",
       "6    72.0\n",
       "7    97.0\n",
       "8    91.0\n",
       "9    66.0\n",
       "Name: grade, dtype: float64"
      ]
     },
     "execution_count": 95,
     "metadata": {},
     "output_type": "execute_result"
    }
   ],
   "source": [
    "df.loc[:, 'grade'] # using the empty [:] notaion we select all rows  "
   ]
  },
  {
   "cell_type": "code",
   "execution_count": 96,
   "metadata": {
    "ExecuteTime": {
     "end_time": "2019-07-24T07:06:46.809260Z",
     "start_time": "2019-07-24T07:06:46.799099Z"
    }
   },
   "outputs": [
    {
     "data": {
      "text/plain": [
       "21"
      ]
     },
     "execution_count": 96,
     "metadata": {},
     "output_type": "execute_result"
    }
   ],
   "source": [
    "# slicing the third row and age column\n",
    "df.loc[2,'age']"
   ]
  },
  {
   "cell_type": "code",
   "execution_count": 97,
   "metadata": {
    "ExecuteTime": {
     "end_time": "2019-07-24T07:06:46.988213Z",
     "start_time": "2019-07-24T07:06:46.974031Z"
    }
   },
   "outputs": [
    {
     "data": {
      "text/plain": [
       "age         23\n",
       "grade       78\n",
       "name     Alice\n",
       "Name: 0, dtype: object"
      ]
     },
     "execution_count": 97,
     "metadata": {},
     "output_type": "execute_result"
    }
   ],
   "source": [
    "# selecting the first row\n",
    "df.loc[0, :]"
   ]
  },
  {
   "cell_type": "code",
   "execution_count": 98,
   "metadata": {
    "ExecuteTime": {
     "end_time": "2019-07-24T07:06:47.162901Z",
     "start_time": "2019-07-24T07:06:47.146419Z"
    }
   },
   "outputs": [
    {
     "data": {
      "text/html": [
       "<div>\n",
       "<style scoped>\n",
       "    .dataframe tbody tr th:only-of-type {\n",
       "        vertical-align: middle;\n",
       "    }\n",
       "\n",
       "    .dataframe tbody tr th {\n",
       "        vertical-align: top;\n",
       "    }\n",
       "\n",
       "    .dataframe thead th {\n",
       "        text-align: right;\n",
       "    }\n",
       "</style>\n",
       "<table border=\"1\" class=\"dataframe\">\n",
       "  <thead>\n",
       "    <tr style=\"text-align: right;\">\n",
       "      <th></th>\n",
       "      <th>age</th>\n",
       "      <th>grade</th>\n",
       "    </tr>\n",
       "  </thead>\n",
       "  <tbody>\n",
       "    <tr>\n",
       "      <th>0</th>\n",
       "      <td>23</td>\n",
       "      <td>78.0</td>\n",
       "    </tr>\n",
       "    <tr>\n",
       "      <th>1</th>\n",
       "      <td>26</td>\n",
       "      <td>48.0</td>\n",
       "    </tr>\n",
       "    <tr>\n",
       "      <th>2</th>\n",
       "      <td>21</td>\n",
       "      <td>92.0</td>\n",
       "    </tr>\n",
       "  </tbody>\n",
       "</table>\n",
       "</div>"
      ],
      "text/plain": [
       "   age  grade\n",
       "0   23   78.0\n",
       "1   26   48.0\n",
       "2   21   92.0"
      ]
     },
     "execution_count": 98,
     "metadata": {},
     "output_type": "execute_result"
    }
   ],
   "source": [
    "# using iloc, we use the numric position of the rows and columns we wish to slice\n",
    "\n",
    "# get the first 3 rows and first 2 columns\n",
    "df.iloc[:3, :2]"
   ]
  },
  {
   "cell_type": "markdown",
   "metadata": {},
   "source": [
    "## Time to Exercise  🏋🏻\n"
   ]
  },
  {
   "cell_type": "code",
   "execution_count": 99,
   "metadata": {
    "ExecuteTime": {
     "end_time": "2019-07-24T07:06:47.600795Z",
     "start_time": "2019-07-24T07:06:47.563121Z"
    }
   },
   "outputs": [],
   "source": [
    "# Create a data frame from the following json array\n",
    "zoo_data = [  { \"animal\": \"elephant\", \"uniq_id\": 1001, \"water_need\": 500 },\n",
    "              { \"animal\": \"elephant\", \"uniq_id\": 1002, \"water_need\": 600 },\n",
    "              { \"animal\": \"elephant\", \"uniq_id\": 1003, \"water_need\": 550 },\n",
    "              { \"animal\": \"tiger\", \"uniq_id\": 1004, \"water_need\": 300 },\n",
    "              { \"animal\": \"tiger\", \"uniq_id\": 1005, \"water_need\": 320 },\n",
    "              { \"animal\": \"tiger\", \"uniq_id\": 1006, \"water_need\": 330 },\n",
    "              { \"animal\": \"tiger\", \"uniq_id\": 1007, \"water_need\": 290 },\n",
    "              { \"animal\": \"tiger\", \"uniq_id\": 1008, \"water_need\": 310 },\n",
    "              { \"animal\": \"zebra\", \"uniq_id\": 1009, \"water_need\": 200 },\n",
    "              { \"animal\": \"zebra\", \"uniq_id\": 1010, \"water_need\": 220 },\n",
    "              { \"animal\": \"zebra\", \"uniq_id\": 1011, \"water_need\": 240 },\n",
    "              { \"animal\": \"zebra\", \"uniq_id\": 1012, \"water_need\": 230 },\n",
    "              { \"animal\": \"zebra\", \"uniq_id\": 1013, \"water_need\": 220 },\n",
    "              { \"animal\": \"zebra\", \"uniq_id\": 1014, \"water_need\": 100 },\n",
    "              { \"animal\": \"zebra\", \"uniq_id\": 1015, \"water_need\": 80 },\n",
    "              { \"animal\": \"lion\", \"uniq_id\": 1016, \"water_need\": 420 },\n",
    "              { \"animal\": \"lion\", \"uniq_id\": 1017, \"water_need\": 600 },\n",
    "              { \"animal\": \"lion\", \"uniq_id\": 1018, \"water_need\": 500 },\n",
    "              { \"animal\": \"lion\", \"uniq_id\": 1019, \"water_need\": 390 },\n",
    "              { \"animal\": \"kangaroo\", \"uniq_id\": 1020, \"water_need\": 410 },\n",
    "              { \"animal\": \"kangaroo\", \"uniq_id\": 1021, \"water_need\": 430 },\n",
    "              { \"animal\": \"kangaroo\", \"uniq_id\": 1022, \"water_need\": 410}\n",
    "]"
   ]
  },
  {
   "cell_type": "markdown",
   "metadata": {},
   "source": [
    "### Use the shape, describe and head functions to explore the dataset\n"
   ]
  },
  {
   "cell_type": "code",
   "execution_count": null,
   "metadata": {},
   "outputs": [],
   "source": []
  },
  {
   "cell_type": "markdown",
   "metadata": {},
   "source": [
    "### How much Water does all the animals need?\n"
   ]
  },
  {
   "cell_type": "code",
   "execution_count": null,
   "metadata": {},
   "outputs": [],
   "source": []
  },
  {
   "cell_type": "markdown",
   "metadata": {},
   "source": [
    "###  Print the number of unique animals in the zoo\n",
    "\n"
   ]
  },
  {
   "cell_type": "code",
   "execution_count": null,
   "metadata": {},
   "outputs": [],
   "source": []
  },
  {
   "cell_type": "markdown",
   "metadata": {},
   "source": [
    "###  Print a new data frame with the animal name column and its water need.\n",
    "\n"
   ]
  },
  {
   "cell_type": "code",
   "execution_count": null,
   "metadata": {},
   "outputs": [],
   "source": []
  },
  {
   "cell_type": "markdown",
   "metadata": {},
   "source": [
    "###  Use the iloc function to select the last 10 rows of the last column\n"
   ]
  },
  {
   "cell_type": "code",
   "execution_count": null,
   "metadata": {},
   "outputs": [],
   "source": []
  },
  {
   "cell_type": "markdown",
   "metadata": {},
   "source": [
    "## Sorting\n",
    "\n",
    "Pandas has two methods of sorting, by index and by value. \n",
    "\n",
    "Examples:"
   ]
  },
  {
   "cell_type": "code",
   "execution_count": 100,
   "metadata": {
    "ExecuteTime": {
     "end_time": "2019-07-24T07:06:51.097419Z",
     "start_time": "2019-07-24T07:06:51.081984Z"
    }
   },
   "outputs": [
    {
     "name": "stdout",
     "output_type": "stream",
     "text": [
      "       height\n",
      "James    1.75\n",
      "Alex     1.82\n",
      "Bob      1.68\n",
      "Gary     1.72\n",
      "\n",
      "\n",
      "sorted:\n",
      "\n",
      "       height\n",
      "Alex     1.82\n",
      "Bob      1.68\n",
      "Gary     1.72\n",
      "James    1.75\n"
     ]
    }
   ],
   "source": [
    "# sorting by index\n",
    "unsorted_df = pd.DataFrame(data  = [1.75, 1.82, 1.68, 1.72],\n",
    "                           index = ['James', 'Alex', 'Bob', 'Gary'],\n",
    "                           columns = ['height'])\n",
    "\n",
    "print(unsorted_df)\n",
    "print('\\n')\n",
    "\n",
    "sorted_df=unsorted_df.sort_index()\n",
    "print('sorted:\\n')\n",
    "print(sorted_df)"
   ]
  },
  {
   "cell_type": "code",
   "execution_count": 101,
   "metadata": {
    "ExecuteTime": {
     "end_time": "2019-07-24T07:06:52.156607Z",
     "start_time": "2019-07-24T07:06:52.140908Z"
    }
   },
   "outputs": [
    {
     "data": {
      "text/html": [
       "<div>\n",
       "<style scoped>\n",
       "    .dataframe tbody tr th:only-of-type {\n",
       "        vertical-align: middle;\n",
       "    }\n",
       "\n",
       "    .dataframe tbody tr th {\n",
       "        vertical-align: top;\n",
       "    }\n",
       "\n",
       "    .dataframe thead th {\n",
       "        text-align: right;\n",
       "    }\n",
       "</style>\n",
       "<table border=\"1\" class=\"dataframe\">\n",
       "  <thead>\n",
       "    <tr style=\"text-align: right;\">\n",
       "      <th></th>\n",
       "      <th>height</th>\n",
       "    </tr>\n",
       "  </thead>\n",
       "  <tbody>\n",
       "    <tr>\n",
       "      <th>Bob</th>\n",
       "      <td>1.68</td>\n",
       "    </tr>\n",
       "    <tr>\n",
       "      <th>Gary</th>\n",
       "      <td>1.72</td>\n",
       "    </tr>\n",
       "    <tr>\n",
       "      <th>James</th>\n",
       "      <td>1.75</td>\n",
       "    </tr>\n",
       "    <tr>\n",
       "      <th>Alex</th>\n",
       "      <td>1.82</td>\n",
       "    </tr>\n",
       "  </tbody>\n",
       "</table>\n",
       "</div>"
      ],
      "text/plain": [
       "       height\n",
       "Bob      1.68\n",
       "Gary     1.72\n",
       "James    1.75\n",
       "Alex     1.82"
      ]
     },
     "execution_count": 101,
     "metadata": {},
     "output_type": "execute_result"
    }
   ],
   "source": [
    "# sorting by value\n",
    "unsorted_df.sort_values(by='height')"
   ]
  },
  {
   "cell_type": "code",
   "execution_count": 102,
   "metadata": {
    "ExecuteTime": {
     "end_time": "2019-07-24T07:06:52.821429Z",
     "start_time": "2019-07-24T07:06:52.806174Z"
    }
   },
   "outputs": [
    {
     "data": {
      "text/html": [
       "<div>\n",
       "<style scoped>\n",
       "    .dataframe tbody tr th:only-of-type {\n",
       "        vertical-align: middle;\n",
       "    }\n",
       "\n",
       "    .dataframe tbody tr th {\n",
       "        vertical-align: top;\n",
       "    }\n",
       "\n",
       "    .dataframe thead th {\n",
       "        text-align: right;\n",
       "    }\n",
       "</style>\n",
       "<table border=\"1\" class=\"dataframe\">\n",
       "  <thead>\n",
       "    <tr style=\"text-align: right;\">\n",
       "      <th></th>\n",
       "      <th>height</th>\n",
       "    </tr>\n",
       "  </thead>\n",
       "  <tbody>\n",
       "    <tr>\n",
       "      <th>Alex</th>\n",
       "      <td>1.82</td>\n",
       "    </tr>\n",
       "    <tr>\n",
       "      <th>James</th>\n",
       "      <td>1.75</td>\n",
       "    </tr>\n",
       "    <tr>\n",
       "      <th>Gary</th>\n",
       "      <td>1.72</td>\n",
       "    </tr>\n",
       "    <tr>\n",
       "      <th>Bob</th>\n",
       "      <td>1.68</td>\n",
       "    </tr>\n",
       "  </tbody>\n",
       "</table>\n",
       "</div>"
      ],
      "text/plain": [
       "       height\n",
       "Alex     1.82\n",
       "James    1.75\n",
       "Gary     1.72\n",
       "Bob      1.68"
      ]
     },
     "execution_count": 102,
     "metadata": {},
     "output_type": "execute_result"
    }
   ],
   "source": [
    "# and in the opposite order\n",
    "unsorted_df.sort_values(by='height', ascending=False)"
   ]
  },
  {
   "cell_type": "markdown",
   "metadata": {},
   "source": [
    "### Filtering data\n",
    "\n",
    "Pands uses __queries__ and __condisions__ to filter data frames. \n",
    "\n",
    "Examples:\n"
   ]
  },
  {
   "cell_type": "code",
   "execution_count": 103,
   "metadata": {
    "ExecuteTime": {
     "end_time": "2019-07-24T07:06:53.995043Z",
     "start_time": "2019-07-24T07:06:53.985743Z"
    }
   },
   "outputs": [
    {
     "data": {
      "text/plain": [
       "[['Alex', 10], ['Bob', 12], ['Clarke', 13]]"
      ]
     },
     "execution_count": 103,
     "metadata": {},
     "output_type": "execute_result"
    }
   ],
   "source": [
    "data"
   ]
  },
  {
   "cell_type": "code",
   "execution_count": 106,
   "metadata": {
    "ExecuteTime": {
     "end_time": "2019-07-24T10:23:09.619158Z",
     "start_time": "2019-07-24T10:23:09.558243Z"
    }
   },
   "outputs": [
    {
     "ename": "TypeError",
     "evalue": "list indices must be integers, not str",
     "output_type": "error",
     "traceback": [
      "\u001b[0;31m---------------------------------------------------------------------------\u001b[0m",
      "\u001b[0;31mTypeError\u001b[0m                                 Traceback (most recent call last)",
      "\u001b[0;32m<ipython-input-106-c494274fdcf6>\u001b[0m in \u001b[0;36m<module>\u001b[0;34m()\u001b[0m\n\u001b[1;32m      1\u001b[0m \u001b[0;31m# using a simple condition to filter records by their grade\u001b[0m\u001b[0;34m\u001b[0m\u001b[0;34m\u001b[0m\u001b[0m\n\u001b[0;32m----> 2\u001b[0;31m \u001b[0mmy_condition\u001b[0m \u001b[0;34m=\u001b[0m \u001b[0mdata\u001b[0m\u001b[0;34m[\u001b[0m\u001b[0;34m'grade'\u001b[0m\u001b[0;34m]\u001b[0m \u001b[0;34m>\u001b[0m \u001b[0;36m85\u001b[0m\u001b[0;34m\u001b[0m\u001b[0m\n\u001b[0m\u001b[1;32m      3\u001b[0m \u001b[0mdata\u001b[0m\u001b[0;34m[\u001b[0m\u001b[0mmy_condition\u001b[0m\u001b[0;34m]\u001b[0m\u001b[0;34m\u001b[0m\u001b[0m\n",
      "\u001b[0;31mTypeError\u001b[0m: list indices must be integers, not str"
     ]
    }
   ],
   "source": [
    "# using a simple condition to filter records by their grade\n",
    "my_condition = data['grade'] > 85\n",
    "data[my_condition]"
   ]
  },
  {
   "cell_type": "code",
   "execution_count": 105,
   "metadata": {
    "ExecuteTime": {
     "end_time": "2019-07-24T07:06:54.457426Z",
     "start_time": "2019-07-24T07:06:54.435034Z"
    }
   },
   "outputs": [
    {
     "ename": "TypeError",
     "evalue": "list indices must be integers, not str",
     "output_type": "error",
     "traceback": [
      "\u001b[0;31m---------------------------------------------------------------------------\u001b[0m",
      "\u001b[0;31mTypeError\u001b[0m                                 Traceback (most recent call last)",
      "\u001b[0;32m<ipython-input-105-ee0c1992c552>\u001b[0m in \u001b[0;36m<module>\u001b[0;34m()\u001b[0m\n\u001b[1;32m      1\u001b[0m \u001b[0;31m# filter using multiple conditions\u001b[0m\u001b[0;34m\u001b[0m\u001b[0;34m\u001b[0m\u001b[0m\n\u001b[0;32m----> 2\u001b[0;31m \u001b[0mdata\u001b[0m\u001b[0;34m[\u001b[0m \u001b[0;34m(\u001b[0m\u001b[0mdata\u001b[0m\u001b[0;34m[\u001b[0m\u001b[0;34m'grade'\u001b[0m\u001b[0;34m]\u001b[0m \u001b[0;34m>\u001b[0m \u001b[0;36m85\u001b[0m\u001b[0;34m)\u001b[0m \u001b[0;34m&\u001b[0m \u001b[0;34m(\u001b[0m\u001b[0mdata\u001b[0m\u001b[0;34m[\u001b[0m\u001b[0;34m'age'\u001b[0m\u001b[0;34m]\u001b[0m \u001b[0;34m>\u001b[0m \u001b[0;36m24\u001b[0m\u001b[0;34m)\u001b[0m\u001b[0;34m]\u001b[0m\u001b[0;34m\u001b[0m\u001b[0m\n\u001b[0m",
      "\u001b[0;31mTypeError\u001b[0m: list indices must be integers, not str"
     ]
    }
   ],
   "source": [
    "# filter using multiple conditions\n",
    "data[ (data['grade'] > 85) & (data['age'] > 24)]"
   ]
  },
  {
   "cell_type": "code",
   "execution_count": 68,
   "metadata": {
    "ExecuteTime": {
     "end_time": "2019-07-24T07:03:15.608926Z",
     "start_time": "2019-07-24T07:03:15.586339Z"
    }
   },
   "outputs": [
    {
     "ename": "TypeError",
     "evalue": "list indices must be integers, not str",
     "output_type": "error",
     "traceback": [
      "\u001b[0;31m---------------------------------------------------------------------------\u001b[0m",
      "\u001b[0;31mTypeError\u001b[0m                                 Traceback (most recent call last)",
      "\u001b[0;32m<ipython-input-68-0914c281631f>\u001b[0m in \u001b[0;36m<module>\u001b[0;34m()\u001b[0m\n\u001b[1;32m      1\u001b[0m \u001b[0;31m# Find the student with no grade\u001b[0m\u001b[0;34m\u001b[0m\u001b[0;34m\u001b[0m\u001b[0m\n\u001b[0;32m----> 2\u001b[0;31m \u001b[0mdata\u001b[0m\u001b[0;34m[\u001b[0m \u001b[0mdata\u001b[0m\u001b[0;34m[\u001b[0m\u001b[0;34m'grade'\u001b[0m\u001b[0;34m]\u001b[0m\u001b[0;34m.\u001b[0m\u001b[0misna\u001b[0m\u001b[0;34m(\u001b[0m\u001b[0;34m)\u001b[0m \u001b[0;34m]\u001b[0m\u001b[0;34m\u001b[0m\u001b[0m\n\u001b[0m",
      "\u001b[0;31mTypeError\u001b[0m: list indices must be integers, not str"
     ]
    }
   ],
   "source": [
    "# Find the student with no grade\n",
    "data[ data['grade'].isna() ]"
   ]
  },
  {
   "cell_type": "markdown",
   "metadata": {},
   "source": [
    "## Time to Exercise  💪🏻\n"
   ]
  },
  {
   "cell_type": "code",
   "execution_count": 30,
   "metadata": {
    "ExecuteTime": {
     "end_time": "2019-07-23T21:45:28.496353Z",
     "start_time": "2019-07-23T21:45:28.458936Z"
    }
   },
   "outputs": [],
   "source": [
    "# Create a data frame from the following json array\n",
    "zoo_data = [  { \"animal\": \"elephant\", \"uniq_id\": 1001, \"water_need\": 500 },\n",
    "              { \"animal\": \"elephant\", \"uniq_id\": 1002, \"water_need\": 600 },\n",
    "              { \"animal\": \"elephant\", \"uniq_id\": 1003, \"water_need\": 550 },\n",
    "              { \"animal\": \"tiger\", \"uniq_id\": 1004, \"water_need\": 300 },\n",
    "              { \"animal\": \"tiger\", \"uniq_id\": 1005, \"water_need\": 320 },\n",
    "              { \"animal\": \"tiger\", \"uniq_id\": 1006, \"water_need\": 330 },\n",
    "              { \"animal\": \"tiger\", \"uniq_id\": 1007, \"water_need\": 290 },\n",
    "              { \"animal\": \"tiger\", \"uniq_id\": 1008, \"water_need\": 310 },\n",
    "              { \"animal\": \"zebra\", \"uniq_id\": 1009, \"water_need\": 200 },\n",
    "              { \"animal\": \"zebra\", \"uniq_id\": 1010, \"water_need\": 220 },\n",
    "              { \"animal\": \"zebra\", \"uniq_id\": 1011, \"water_need\": 240 },\n",
    "              { \"animal\": \"zebra\", \"uniq_id\": 1012, \"water_need\": 230 },\n",
    "              { \"animal\": \"zebra\", \"uniq_id\": 1013, \"water_need\": 220 },\n",
    "              { \"animal\": \"zebra\", \"uniq_id\": 1014, \"water_need\": 100 },\n",
    "              { \"animal\": \"zebra\", \"uniq_id\": 1015, \"water_need\": 80 },\n",
    "              { \"animal\": \"lion\", \"uniq_id\": 1016, \"water_need\": 420 },\n",
    "              { \"animal\": \"lion\", \"uniq_id\": 1017, \"water_need\": 600 },\n",
    "              { \"animal\": \"lion\", \"uniq_id\": 1018, \"water_need\": 500 },\n",
    "              { \"animal\": \"lion\", \"uniq_id\": 1019, \"water_need\": 390 },\n",
    "              { \"animal\": \"kangaroo\", \"uniq_id\": 1020, \"water_need\": 410 },\n",
    "              { \"animal\": \"kangaroo\", \"uniq_id\": 1021, \"water_need\": 430 },\n",
    "              { \"animal\": \"kangaroo\", \"uniq_id\": 1022, \"water_need\": 410}\n",
    "]"
   ]
  },
  {
   "cell_type": "markdown",
   "metadata": {},
   "source": [
    "### Print the highest water_need of all animals"
   ]
  },
  {
   "cell_type": "code",
   "execution_count": null,
   "metadata": {},
   "outputs": [],
   "source": []
  },
  {
   "cell_type": "markdown",
   "metadata": {},
   "source": [
    "### What's the water need of the animal with uniq_id 1013? "
   ]
  },
  {
   "cell_type": "code",
   "execution_count": null,
   "metadata": {},
   "outputs": [],
   "source": []
  },
  {
   "cell_type": "markdown",
   "metadata": {},
   "source": [
    "### Whta's the average water_need of an elephent? "
   ]
  },
  {
   "cell_type": "code",
   "execution_count": null,
   "metadata": {},
   "outputs": [],
   "source": []
  },
  {
   "cell_type": "markdown",
   "metadata": {},
   "source": [
    "### Bonus: how many types of animals are in the zoo? "
   ]
  },
  {
   "cell_type": "code",
   "execution_count": null,
   "metadata": {},
   "outputs": [],
   "source": []
  }
 ],
 "metadata": {
  "kernelspec": {
   "display_name": "Python 2",
   "language": "python",
   "name": "python2"
  },
  "language_info": {
   "codemirror_mode": {
    "name": "ipython",
    "version": 2
   },
   "file_extension": ".py",
   "mimetype": "text/x-python",
   "name": "python",
   "nbconvert_exporter": "python",
   "pygments_lexer": "ipython2",
   "version": "2.7.15"
  },
  "toc": {
   "base_numbering": 1,
   "nav_menu": {},
   "number_sections": true,
   "sideBar": true,
   "skip_h1_title": false,
   "title_cell": "Table of Contents",
   "title_sidebar": "Contents",
   "toc_cell": false,
   "toc_position": {},
   "toc_section_display": true,
   "toc_window_display": false
  },
  "varInspector": {
   "cols": {
    "lenName": 16,
    "lenType": 16,
    "lenVar": 40
   },
   "kernels_config": {
    "python": {
     "delete_cmd_postfix": "",
     "delete_cmd_prefix": "del ",
     "library": "var_list.py",
     "varRefreshCmd": "print(var_dic_list())"
    },
    "r": {
     "delete_cmd_postfix": ") ",
     "delete_cmd_prefix": "rm(",
     "library": "var_list.r",
     "varRefreshCmd": "cat(var_dic_list()) "
    }
   },
   "types_to_exclude": [
    "module",
    "function",
    "builtin_function_or_method",
    "instance",
    "_Feature"
   ],
   "window_display": false
  }
 },
 "nbformat": 4,
 "nbformat_minor": 2
}
